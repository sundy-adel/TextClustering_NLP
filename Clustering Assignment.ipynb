{
 "cells": [
  {
   "cell_type": "markdown",
   "id": "d05f67e7",
   "metadata": {},
   "source": [
    "# Importing the Libraries"
   ]
  },
  {
   "cell_type": "code",
   "execution_count": 57,
   "id": "faa1f691",
   "metadata": {
    "colab": {
     "base_uri": "https://localhost:8080/"
    },
    "id": "faa1f691",
    "outputId": "d958d992-b6dc-4fc7-eed0-19780a6e861b"
   },
   "outputs": [
    {
     "name": "stderr",
     "output_type": "stream",
     "text": [
      "[nltk_data] Downloading package stopwords to\n",
      "[nltk_data]     C:\\Users\\LENOVO\\AppData\\Roaming\\nltk_data...\n",
      "[nltk_data]   Package stopwords is already up-to-date!\n",
      "[nltk_data] Downloading package wordnet to\n",
      "[nltk_data]     C:\\Users\\LENOVO\\AppData\\Roaming\\nltk_data...\n",
      "[nltk_data]   Package wordnet is already up-to-date!\n"
     ]
    }
   ],
   "source": [
    "#import libraries\n",
    "import pandas as pd\n",
    "import numpy as np\n",
    "import requests\n",
    "import re\n",
    "import random\n",
    "import nltk\n",
    "import matplotlib.pyplot as plt\n",
    "nltk.download('stopwords')\n",
    "nltk.download('wordnet')\n",
    "import collections\n",
    "from nltk.tokenize import regexp_tokenize\n",
    "from nltk.stem import WordNetLemmatizer\n",
    "from nltk.corpus import stopwords\n",
    "from gensim.models import Word2Vec\n",
    "from gensim.models import Doc2Vec\n",
    "from gensim.models.doc2vec import TaggedDocument\n",
    "from urllib import request\n",
    "from sklearn.feature_extraction.text import CountVectorizer\n",
    "from sklearn.decomposition import LatentDirichletAllocation\n",
    "from sklearn.metrics import cohen_kappa_score\n",
    "from collections import Counter\n",
    "from sklearn.cluster import KMeans\n",
    "from sklearn.metrics import  silhouette_score\n",
    "from sklearn.cluster import KMeans, AgglomerativeClustering\n",
    "from sklearn.mixture import GaussianMixture\n",
    "from scipy.cluster.hierarchy import dendrogram, linkage"
   ]
  },
  {
   "cell_type": "markdown",
   "id": "c3a92c2c",
   "metadata": {},
   "source": [
    "# Importing the dataset"
   ]
  },
  {
   "cell_type": "markdown",
   "id": "rd2ww0y7Tc3y",
   "metadata": {
    "id": "rd2ww0y7Tc3y"
   },
   "source": []
  },
  {
   "cell_type": "code",
   "execution_count": 58,
   "id": "0cb3db34",
   "metadata": {
    "id": "0cb3db34"
   },
   "outputs": [],
   "source": [
    "urls = [\"https://www.gutenberg.org/files/50928/50928.txt\"\n",
    ",\"https://www.gutenberg.org/files/29181/29181.txt\"\n",
    ",\"https://www.gutenberg.org/files/69703/69703-0.txt\"\n",
    ",\"https://www.gutenberg.org/files/30214/30214.txt\"\n",
    ",\"https://www.gutenberg.org/files/64873/64873-0.txt\"]\n",
    "Names = [\"Hot Planet\" ,\"Foundling on Venus\" , \"The master mind of Mars\"  , \"The Red Hell of Jupiter\" ,\"Ice Planet\"]\n",
    "Authors = [\"Hal Clement\" ,\"Dorothy De Courcy and John De Courcy\" ,\"Edgar Rice Burroughs\" , \"Paul Ernst\" ,\"Carl Selwyn\"]\n",
    "Labels = [ 'a' ,'b' ,'c','d' ,'e']"
   ]
  },
  {
   "cell_type": "code",
   "execution_count": 59,
   "id": "a65fd9e3",
   "metadata": {
    "id": "a65fd9e3"
   },
   "outputs": [],
   "source": [
    "def prepare_data(url, name, author, label,index):\n",
    "\n",
    "    response = request.urlopen(url)\n",
    "    lines = (response.read().decode('utf8')).lower()\n",
    "    tokens= regexp_tokenize(lines,r'([a-zA-Z]{3,})[\\,|\\s|\\.]')\n",
    "\n",
    "    isalpha = [word.lower() for word in tokens if word.isalpha()]\n",
    "\n",
    "    stop_words = set(stopwords.words('english'))\n",
    "    nostop = [w for w in isalpha if not w in stop_words]\n",
    "\n",
    "    lemma=[]\n",
    "    lemmatizer = WordNetLemmatizer()\n",
    "    lemma=[lemmatizer.lemmatize(w) for w in nostop]\n",
    "\n",
    "    book = []\n",
    "    for i in range(200):\n",
    "        start = random.randint(0 , len(lemma)-150)\n",
    "        book.append(' '.join( lemma[start:start+150]))\n",
    "\n",
    "        df = pd.DataFrame()\n",
    "        df[\"partitions\"] = book\n",
    "        df[\"name\"] = name\n",
    "        df[\"author\"] = author\n",
    "        df[\"Label\"] = label\n",
    "        df[\"index\"] = index\n",
    "    return df"
   ]
  },
  {
   "cell_type": "code",
   "execution_count": 60,
   "id": "a2fdadbf",
   "metadata": {
    "colab": {
     "base_uri": "https://localhost:8080/",
     "height": 423
    },
    "id": "a2fdadbf",
    "outputId": "32c6e0dc-a082-4a8c-ef83-51157ee46da8"
   },
   "outputs": [
    {
     "data": {
      "text/html": [
       "<div>\n",
       "<style scoped>\n",
       "    .dataframe tbody tr th:only-of-type {\n",
       "        vertical-align: middle;\n",
       "    }\n",
       "\n",
       "    .dataframe tbody tr th {\n",
       "        vertical-align: top;\n",
       "    }\n",
       "\n",
       "    .dataframe thead th {\n",
       "        text-align: right;\n",
       "    }\n",
       "</style>\n",
       "<table border=\"1\" class=\"dataframe\">\n",
       "  <thead>\n",
       "    <tr style=\"text-align: right;\">\n",
       "      <th></th>\n",
       "      <th>partitions</th>\n",
       "      <th>name</th>\n",
       "      <th>author</th>\n",
       "      <th>Label</th>\n",
       "      <th>index</th>\n",
       "    </tr>\n",
       "  </thead>\n",
       "  <tbody>\n",
       "    <tr>\n",
       "      <th>0</th>\n",
       "      <td>property agreement agree abide term agreement ...</td>\n",
       "      <td>Hot Planet</td>\n",
       "      <td>Hal Clement</td>\n",
       "      <td>a</td>\n",
       "      <td>0</td>\n",
       "    </tr>\n",
       "    <tr>\n",
       "      <th>1</th>\n",
       "      <td>afraid without adventure zaino grimaced sound ...</td>\n",
       "      <td>Hot Planet</td>\n",
       "      <td>Hal Clement</td>\n",
       "      <td>a</td>\n",
       "      <td>0</td>\n",
       "    </tr>\n",
       "    <tr>\n",
       "      <th>2</th>\n",
       "      <td>fast saw tell much come unless stop nothing ke...</td>\n",
       "      <td>Hot Planet</td>\n",
       "      <td>Hal Clement</td>\n",
       "      <td>a</td>\n",
       "      <td>0</td>\n",
       "    </tr>\n",
       "    <tr>\n",
       "      <th>3</th>\n",
       "      <td>service ein federal tax identification number ...</td>\n",
       "      <td>Hot Planet</td>\n",
       "      <td>Hal Clement</td>\n",
       "      <td>a</td>\n",
       "      <td>0</td>\n",
       "    </tr>\n",
       "    <tr>\n",
       "      <th>4</th>\n",
       "      <td>access electronic work freely sharing project ...</td>\n",
       "      <td>Hot Planet</td>\n",
       "      <td>Hal Clement</td>\n",
       "      <td>a</td>\n",
       "      <td>0</td>\n",
       "    </tr>\n",
       "    <tr>\n",
       "      <th>...</th>\n",
       "      <td>...</td>\n",
       "      <td>...</td>\n",
       "      <td>...</td>\n",
       "      <td>...</td>\n",
       "      <td>...</td>\n",
       "    </tr>\n",
       "    <tr>\n",
       "      <th>995</th>\n",
       "      <td>far smooth horizon dull red ball cast feeble l...</td>\n",
       "      <td>Ice Planet</td>\n",
       "      <td>Carl Selwyn</td>\n",
       "      <td>e</td>\n",
       "      <td>4</td>\n",
       "    </tr>\n",
       "    <tr>\n",
       "      <th>996</th>\n",
       "      <td>attuned molly borden purred know went liner va...</td>\n",
       "      <td>Ice Planet</td>\n",
       "      <td>Carl Selwyn</td>\n",
       "      <td>e</td>\n",
       "      <td>4</td>\n",
       "    </tr>\n",
       "    <tr>\n",
       "      <th>997</th>\n",
       "      <td>eye spoke woman key left vest pocket said take...</td>\n",
       "      <td>Ice Planet</td>\n",
       "      <td>Carl Selwyn</td>\n",
       "      <td>e</td>\n",
       "      <td>4</td>\n",
       "    </tr>\n",
       "    <tr>\n",
       "      <th>998</th>\n",
       "      <td>puff flesh sit smiled much talk ricker found w...</td>\n",
       "      <td>Ice Planet</td>\n",
       "      <td>Carl Selwyn</td>\n",
       "      <td>e</td>\n",
       "      <td>4</td>\n",
       "    </tr>\n",
       "    <tr>\n",
       "      <th>999</th>\n",
       "      <td>yellow suddenly sprang like whip lashed fist m...</td>\n",
       "      <td>Ice Planet</td>\n",
       "      <td>Carl Selwyn</td>\n",
       "      <td>e</td>\n",
       "      <td>4</td>\n",
       "    </tr>\n",
       "  </tbody>\n",
       "</table>\n",
       "<p>1000 rows × 5 columns</p>\n",
       "</div>"
      ],
      "text/plain": [
       "                                            partitions        name  \\\n",
       "0    property agreement agree abide term agreement ...  Hot Planet   \n",
       "1    afraid without adventure zaino grimaced sound ...  Hot Planet   \n",
       "2    fast saw tell much come unless stop nothing ke...  Hot Planet   \n",
       "3    service ein federal tax identification number ...  Hot Planet   \n",
       "4    access electronic work freely sharing project ...  Hot Planet   \n",
       "..                                                 ...         ...   \n",
       "995  far smooth horizon dull red ball cast feeble l...  Ice Planet   \n",
       "996  attuned molly borden purred know went liner va...  Ice Planet   \n",
       "997  eye spoke woman key left vest pocket said take...  Ice Planet   \n",
       "998  puff flesh sit smiled much talk ricker found w...  Ice Planet   \n",
       "999  yellow suddenly sprang like whip lashed fist m...  Ice Planet   \n",
       "\n",
       "          author Label  index  \n",
       "0    Hal Clement     a      0  \n",
       "1    Hal Clement     a      0  \n",
       "2    Hal Clement     a      0  \n",
       "3    Hal Clement     a      0  \n",
       "4    Hal Clement     a      0  \n",
       "..           ...   ...    ...  \n",
       "995  Carl Selwyn     e      4  \n",
       "996  Carl Selwyn     e      4  \n",
       "997  Carl Selwyn     e      4  \n",
       "998  Carl Selwyn     e      4  \n",
       "999  Carl Selwyn     e      4  \n",
       "\n",
       "[1000 rows x 5 columns]"
      ]
     },
     "execution_count": 60,
     "metadata": {},
     "output_type": "execute_result"
    }
   ],
   "source": [
    "data = pd.DataFrame()\n",
    "for index, (url, name, author, label) in enumerate(zip(urls, Names, Authors, Labels)):\n",
    "    data = pd.concat([data, prepare_data(url, name, author, label, index)])\n",
    "\n",
    "data.reset_index(drop=True, inplace=True)\n",
    "data"
   ]
  },
  {
   "cell_type": "markdown",
   "id": "1c1ac7db",
   "metadata": {},
   "source": [
    "# Data Visualiztion"
   ]
  },
  {
   "cell_type": "code",
   "execution_count": 71,
   "id": "11d8bcfe",
   "metadata": {},
   "outputs": [
    {
     "data": {
      "image/png": "[encoded data removed]",
      "text/plain": [
       "<Figure size 720x576 with 2 Axes>"
      ]
     },
     "metadata": {
      "needs_background": "light"
     },
     "output_type": "display_data"
    }
   ],
   "source": [
    "from sklearn.feature_extraction.text import TfidfVectorizer\n",
    "from sklearn.manifold import TSNE\n",
    "import matplotlib.pyplot as plt\n",
    "from sklearn.preprocessing import LabelEncoder\n",
    "\n",
    "# Vectorize the text data using TF-IDF\n",
    "vectorizer = TfidfVectorizer()\n",
    "tfidf_matrix = vectorizer.fit_transform(data[\"partitions\"])\n",
    "\n",
    "# Reduce dimensionality using t-SNE\n",
    "tsne = TSNE(n_components=2, random_state=42)\n",
    "tsne_data = tsne.fit_transform(tfidf_matrix)\n",
    "\n",
    "# Extract x and y coordinates for visualization\n",
    "x = tsne_data[:, 0]\n",
    "y = tsne_data[:, 1]\n",
    "\n",
    "# Encode the labels\n",
    "label_encoder = LabelEncoder()\n",
    "encoded_labels = label_encoder.fit_transform(data[\"Label\"])\n",
    "\n",
    "# Create a scatter plot of the blob visualization\n",
    "plt.figure(figsize=(10, 8))\n",
    "plt.scatter(x, y, c=encoded_labels, cmap=\"viridis\")\n",
    "plt.title(\"Blob Visualization\")\n",
    "plt.xlabel(\"Dimension 1\")\n",
    "plt.ylabel(\"Dimension 2\")\n",
    "plt.colorbar(label=\"Label\")\n",
    "plt.show()"
   ]
  },
  {
   "cell_type": "code",
   "execution_count": 61,
   "id": "TPt0e62LA5Yu",
   "metadata": {
    "id": "TPt0e62LA5Yu"
   },
   "outputs": [],
   "source": [
    "human_label=np.array(data.iloc[:,-1])"
   ]
  },
  {
   "cell_type": "code",
   "execution_count": 62,
   "id": "CSsChQBtAk7J",
   "metadata": {
    "id": "CSsChQBtAk7J"
   },
   "outputs": [],
   "source": [
    "def map_label(labels,old_labels,num_class=5):\n",
    "    new_labels=[]\n",
    "\n",
    "    for idx in range(5):\n",
    "        dict_labels=Counter(labels[200*idx:200*idx+200])\n",
    "        flag=0\n",
    "\n",
    "        for i in dict_labels:\n",
    "\n",
    "            if dict_labels[i]> flag and i not in new_labels :\n",
    "\n",
    "                flag=dict_labels[i]\n",
    "                index=i\n",
    "        if index not in new_labels:\n",
    "          new_labels.append(index)\n",
    "        else:\n",
    "          for i in range(5):\n",
    "            if i not in new_labels:\n",
    "              new_labels.append(i)\n",
    "\n",
    "\n",
    "\n",
    "    for indx , label in enumerate(new_labels):\n",
    "        old_labels[indx*200:200*indx+200]=label\n",
    "    return old_labels"
   ]
  },
  {
   "cell_type": "markdown",
   "id": "cb36afab",
   "metadata": {},
   "source": [
    "# BOW"
   ]
  },
  {
   "cell_type": "code",
   "execution_count": 8,
   "id": "9c53570a",
   "metadata": {
    "colab": {
     "base_uri": "https://localhost:8080/",
     "height": 423
    },
    "id": "9c53570a",
    "outputId": "dce6483b-6a82-4e5c-d1a2-56003279efa9",
    "scrolled": true
   },
   "outputs": [
    {
     "data": {
      "text/html": [
       "<div>\n",
       "<style scoped>\n",
       "    .dataframe tbody tr th:only-of-type {\n",
       "        vertical-align: middle;\n",
       "    }\n",
       "\n",
       "    .dataframe tbody tr th {\n",
       "        vertical-align: top;\n",
       "    }\n",
       "\n",
       "    .dataframe thead th {\n",
       "        text-align: right;\n",
       "    }\n",
       "</style>\n",
       "<table border=\"1\" class=\"dataframe\">\n",
       "  <thead>\n",
       "    <tr style=\"text-align: right;\">\n",
       "      <th></th>\n",
       "      <th>abandoned</th>\n",
       "      <th>abandoning</th>\n",
       "      <th>abhorrence</th>\n",
       "      <th>abide</th>\n",
       "      <th>able</th>\n",
       "      <th>ablest</th>\n",
       "      <th>aboard</th>\n",
       "      <th>abroad</th>\n",
       "      <th>abrupt</th>\n",
       "      <th>abruptly</th>\n",
       "      <th>...</th>\n",
       "      <th>zaino</th>\n",
       "      <th>zak</th>\n",
       "      <th>zephyr</th>\n",
       "      <th>zero</th>\n",
       "      <th>zinc</th>\n",
       "      <th>zip</th>\n",
       "      <th>zode</th>\n",
       "      <th>zone</th>\n",
       "      <th>zoom</th>\n",
       "      <th>zoomed</th>\n",
       "    </tr>\n",
       "  </thead>\n",
       "  <tbody>\n",
       "    <tr>\n",
       "      <th>0</th>\n",
       "      <td>0</td>\n",
       "      <td>0</td>\n",
       "      <td>0</td>\n",
       "      <td>0</td>\n",
       "      <td>0</td>\n",
       "      <td>0</td>\n",
       "      <td>0</td>\n",
       "      <td>0</td>\n",
       "      <td>0</td>\n",
       "      <td>0</td>\n",
       "      <td>...</td>\n",
       "      <td>3</td>\n",
       "      <td>0</td>\n",
       "      <td>0</td>\n",
       "      <td>0</td>\n",
       "      <td>0</td>\n",
       "      <td>0</td>\n",
       "      <td>0</td>\n",
       "      <td>0</td>\n",
       "      <td>0</td>\n",
       "      <td>0</td>\n",
       "    </tr>\n",
       "    <tr>\n",
       "      <th>1</th>\n",
       "      <td>0</td>\n",
       "      <td>0</td>\n",
       "      <td>0</td>\n",
       "      <td>0</td>\n",
       "      <td>1</td>\n",
       "      <td>0</td>\n",
       "      <td>1</td>\n",
       "      <td>0</td>\n",
       "      <td>0</td>\n",
       "      <td>0</td>\n",
       "      <td>...</td>\n",
       "      <td>2</td>\n",
       "      <td>0</td>\n",
       "      <td>0</td>\n",
       "      <td>0</td>\n",
       "      <td>0</td>\n",
       "      <td>0</td>\n",
       "      <td>0</td>\n",
       "      <td>0</td>\n",
       "      <td>0</td>\n",
       "      <td>0</td>\n",
       "    </tr>\n",
       "    <tr>\n",
       "      <th>2</th>\n",
       "      <td>0</td>\n",
       "      <td>0</td>\n",
       "      <td>0</td>\n",
       "      <td>0</td>\n",
       "      <td>0</td>\n",
       "      <td>0</td>\n",
       "      <td>0</td>\n",
       "      <td>0</td>\n",
       "      <td>0</td>\n",
       "      <td>0</td>\n",
       "      <td>...</td>\n",
       "      <td>1</td>\n",
       "      <td>0</td>\n",
       "      <td>0</td>\n",
       "      <td>0</td>\n",
       "      <td>0</td>\n",
       "      <td>0</td>\n",
       "      <td>0</td>\n",
       "      <td>0</td>\n",
       "      <td>0</td>\n",
       "      <td>0</td>\n",
       "    </tr>\n",
       "    <tr>\n",
       "      <th>3</th>\n",
       "      <td>0</td>\n",
       "      <td>0</td>\n",
       "      <td>0</td>\n",
       "      <td>0</td>\n",
       "      <td>0</td>\n",
       "      <td>0</td>\n",
       "      <td>0</td>\n",
       "      <td>0</td>\n",
       "      <td>0</td>\n",
       "      <td>0</td>\n",
       "      <td>...</td>\n",
       "      <td>0</td>\n",
       "      <td>0</td>\n",
       "      <td>0</td>\n",
       "      <td>0</td>\n",
       "      <td>0</td>\n",
       "      <td>0</td>\n",
       "      <td>0</td>\n",
       "      <td>0</td>\n",
       "      <td>0</td>\n",
       "      <td>0</td>\n",
       "    </tr>\n",
       "    <tr>\n",
       "      <th>4</th>\n",
       "      <td>0</td>\n",
       "      <td>0</td>\n",
       "      <td>0</td>\n",
       "      <td>0</td>\n",
       "      <td>0</td>\n",
       "      <td>0</td>\n",
       "      <td>0</td>\n",
       "      <td>0</td>\n",
       "      <td>0</td>\n",
       "      <td>0</td>\n",
       "      <td>...</td>\n",
       "      <td>0</td>\n",
       "      <td>0</td>\n",
       "      <td>0</td>\n",
       "      <td>0</td>\n",
       "      <td>0</td>\n",
       "      <td>0</td>\n",
       "      <td>0</td>\n",
       "      <td>0</td>\n",
       "      <td>0</td>\n",
       "      <td>0</td>\n",
       "    </tr>\n",
       "    <tr>\n",
       "      <th>...</th>\n",
       "      <td>...</td>\n",
       "      <td>...</td>\n",
       "      <td>...</td>\n",
       "      <td>...</td>\n",
       "      <td>...</td>\n",
       "      <td>...</td>\n",
       "      <td>...</td>\n",
       "      <td>...</td>\n",
       "      <td>...</td>\n",
       "      <td>...</td>\n",
       "      <td>...</td>\n",
       "      <td>...</td>\n",
       "      <td>...</td>\n",
       "      <td>...</td>\n",
       "      <td>...</td>\n",
       "      <td>...</td>\n",
       "      <td>...</td>\n",
       "      <td>...</td>\n",
       "      <td>...</td>\n",
       "      <td>...</td>\n",
       "      <td>...</td>\n",
       "    </tr>\n",
       "    <tr>\n",
       "      <th>995</th>\n",
       "      <td>0</td>\n",
       "      <td>0</td>\n",
       "      <td>0</td>\n",
       "      <td>0</td>\n",
       "      <td>0</td>\n",
       "      <td>0</td>\n",
       "      <td>0</td>\n",
       "      <td>0</td>\n",
       "      <td>0</td>\n",
       "      <td>0</td>\n",
       "      <td>...</td>\n",
       "      <td>0</td>\n",
       "      <td>0</td>\n",
       "      <td>0</td>\n",
       "      <td>0</td>\n",
       "      <td>0</td>\n",
       "      <td>0</td>\n",
       "      <td>0</td>\n",
       "      <td>0</td>\n",
       "      <td>0</td>\n",
       "      <td>0</td>\n",
       "    </tr>\n",
       "    <tr>\n",
       "      <th>996</th>\n",
       "      <td>0</td>\n",
       "      <td>0</td>\n",
       "      <td>0</td>\n",
       "      <td>0</td>\n",
       "      <td>0</td>\n",
       "      <td>0</td>\n",
       "      <td>0</td>\n",
       "      <td>0</td>\n",
       "      <td>0</td>\n",
       "      <td>0</td>\n",
       "      <td>...</td>\n",
       "      <td>0</td>\n",
       "      <td>0</td>\n",
       "      <td>0</td>\n",
       "      <td>2</td>\n",
       "      <td>0</td>\n",
       "      <td>0</td>\n",
       "      <td>0</td>\n",
       "      <td>0</td>\n",
       "      <td>0</td>\n",
       "      <td>0</td>\n",
       "    </tr>\n",
       "    <tr>\n",
       "      <th>997</th>\n",
       "      <td>0</td>\n",
       "      <td>0</td>\n",
       "      <td>0</td>\n",
       "      <td>0</td>\n",
       "      <td>0</td>\n",
       "      <td>0</td>\n",
       "      <td>0</td>\n",
       "      <td>0</td>\n",
       "      <td>0</td>\n",
       "      <td>0</td>\n",
       "      <td>...</td>\n",
       "      <td>0</td>\n",
       "      <td>0</td>\n",
       "      <td>0</td>\n",
       "      <td>0</td>\n",
       "      <td>0</td>\n",
       "      <td>0</td>\n",
       "      <td>0</td>\n",
       "      <td>0</td>\n",
       "      <td>0</td>\n",
       "      <td>0</td>\n",
       "    </tr>\n",
       "    <tr>\n",
       "      <th>998</th>\n",
       "      <td>0</td>\n",
       "      <td>0</td>\n",
       "      <td>0</td>\n",
       "      <td>0</td>\n",
       "      <td>0</td>\n",
       "      <td>0</td>\n",
       "      <td>0</td>\n",
       "      <td>0</td>\n",
       "      <td>0</td>\n",
       "      <td>0</td>\n",
       "      <td>...</td>\n",
       "      <td>0</td>\n",
       "      <td>0</td>\n",
       "      <td>0</td>\n",
       "      <td>0</td>\n",
       "      <td>0</td>\n",
       "      <td>0</td>\n",
       "      <td>0</td>\n",
       "      <td>0</td>\n",
       "      <td>0</td>\n",
       "      <td>0</td>\n",
       "    </tr>\n",
       "    <tr>\n",
       "      <th>999</th>\n",
       "      <td>0</td>\n",
       "      <td>0</td>\n",
       "      <td>0</td>\n",
       "      <td>0</td>\n",
       "      <td>0</td>\n",
       "      <td>0</td>\n",
       "      <td>0</td>\n",
       "      <td>0</td>\n",
       "      <td>0</td>\n",
       "      <td>0</td>\n",
       "      <td>...</td>\n",
       "      <td>0</td>\n",
       "      <td>0</td>\n",
       "      <td>0</td>\n",
       "      <td>0</td>\n",
       "      <td>0</td>\n",
       "      <td>0</td>\n",
       "      <td>0</td>\n",
       "      <td>0</td>\n",
       "      <td>0</td>\n",
       "      <td>0</td>\n",
       "    </tr>\n",
       "  </tbody>\n",
       "</table>\n",
       "<p>1000 rows × 7171 columns</p>\n",
       "</div>"
      ],
      "text/plain": [
       "     abandoned  abandoning  abhorrence  abide  able  ablest  aboard  abroad  \\\n",
       "0            0           0           0      0     0       0       0       0   \n",
       "1            0           0           0      0     1       0       1       0   \n",
       "2            0           0           0      0     0       0       0       0   \n",
       "3            0           0           0      0     0       0       0       0   \n",
       "4            0           0           0      0     0       0       0       0   \n",
       "..         ...         ...         ...    ...   ...     ...     ...     ...   \n",
       "995          0           0           0      0     0       0       0       0   \n",
       "996          0           0           0      0     0       0       0       0   \n",
       "997          0           0           0      0     0       0       0       0   \n",
       "998          0           0           0      0     0       0       0       0   \n",
       "999          0           0           0      0     0       0       0       0   \n",
       "\n",
       "     abrupt  abruptly  ...  zaino  zak  zephyr  zero  zinc  zip  zode  zone  \\\n",
       "0         0         0  ...      3    0       0     0     0    0     0     0   \n",
       "1         0         0  ...      2    0       0     0     0    0     0     0   \n",
       "2         0         0  ...      1    0       0     0     0    0     0     0   \n",
       "3         0         0  ...      0    0       0     0     0    0     0     0   \n",
       "4         0         0  ...      0    0       0     0     0    0     0     0   \n",
       "..      ...       ...  ...    ...  ...     ...   ...   ...  ...   ...   ...   \n",
       "995       0         0  ...      0    0       0     0     0    0     0     0   \n",
       "996       0         0  ...      0    0       0     2     0    0     0     0   \n",
       "997       0         0  ...      0    0       0     0     0    0     0     0   \n",
       "998       0         0  ...      0    0       0     0     0    0     0     0   \n",
       "999       0         0  ...      0    0       0     0     0    0     0     0   \n",
       "\n",
       "     zoom  zoomed  \n",
       "0       0       0  \n",
       "1       0       0  \n",
       "2       0       0  \n",
       "3       0       0  \n",
       "4       0       0  \n",
       "..    ...     ...  \n",
       "995     0       0  \n",
       "996     0       0  \n",
       "997     0       0  \n",
       "998     0       0  \n",
       "999     0       0  \n",
       "\n",
       "[1000 rows x 7171 columns]"
      ]
     },
     "execution_count": 8,
     "metadata": {},
     "output_type": "execute_result"
    }
   ],
   "source": [
    "#BOW\n",
    "from sklearn.feature_extraction.text import CountVectorizer\n",
    "coun_vect = CountVectorizer()\n",
    "BOW_vectors = coun_vect.fit_transform(data[\"partitions\"])\n",
    "count_array = BOW_vectors.toarray()\n",
    "\n",
    "BOW_df = pd.DataFrame(count_array,columns = coun_vect.get_feature_names_out())\n",
    "BOW_df"
   ]
  },
  {
   "cell_type": "markdown",
   "id": "ADH_avYO1R3j",
   "metadata": {
    "id": "ADH_avYO1R3j"
   },
   "source": [
    "# **K_Means**"
   ]
  },
  {
   "cell_type": "code",
   "execution_count": 14,
   "id": "f14a9343",
   "metadata": {
    "colab": {
     "base_uri": "https://localhost:8080/"
    },
    "id": "f14a9343",
    "outputId": "2b77b5ea-e0e5-402d-c25c-b7f7808aeb69"
   },
   "outputs": [
    {
     "name": "stderr",
     "output_type": "stream",
     "text": [
      "/usr/local/lib/python3.10/dist-packages/sklearn/cluster/_kmeans.py:870: FutureWarning: The default value of `n_init` will change from 10 to 'auto' in 1.4. Set the value of `n_init` explicitly to suppress the warning\n",
      "  warnings.warn(\n"
     ]
    }
   ],
   "source": [
    "#K_Means BOW\n",
    "KM_BOW=KMeans(n_clusters=5, random_state=42)\n",
    "KM_BOW.fit(BOW_df)\n",
    "KM_BOW_LABEL=KM_BOW.predict(BOW_df)\n",
    "KM_BOW_LABEL_NEW=map_label(KM_BOW_LABEL,human_label)"
   ]
  },
  {
   "cell_type": "code",
   "execution_count": 15,
   "id": "RrgToxNFe-ub",
   "metadata": {
    "colab": {
     "base_uri": "https://localhost:8080/"
    },
    "id": "RrgToxNFe-ub",
    "outputId": "88df9c0e-164c-43d5-bc19-e927d83b90a1"
   },
   "outputs": [
    {
     "name": "stdout",
     "output_type": "stream",
     "text": [
      "[3 2 3 3 3 4 2 2 3 3 3 3 3 2 3 3 4 3 3 4 3 3 2 2 2 3 3 2 3 4 3 3 3 3 3 3 2\n",
      " 4 2 2 3 3 3 2 3 3 2 3 3 3 3 3 3 3 3 3 3 3 3 4 2 3 2 3 3 2 3 3 3 3 3 3 2 3\n",
      " 2 3 3 4 3 3 2 3 3 3 3 3 3 3 3 3 2 2 4 3 2 2 2 3 2 3 3 3 3 2 2 2 3 3 3 3 3\n",
      " 3 2 3 2 3 3 3 3 3 2 2 3 3 3 3 3 3 3 3 3 3 3 3 3 3 4 3 2 3 3 3 3 3 2 3 3 3\n",
      " 3 2 3 3 2 3 2 4 4 2 3 3 2 3 2 3 4 3 3 3 3 4 3 3 3 3 3 3 3 3 3 3 3 3 3 3 3\n",
      " 3 4 3 2 3 3 3 3 3 3 2 2 2 3 2 4 2 2 3 2 3 4 3 4 2 2 2 2 3 3 2 2 2 3 3 2 2\n",
      " 2 2 2 3 2 3 2 3 3 3 2 3 4 2 4 3 4 4 2 2 4 3 4 2 3 2 3 3 3 2 4 2 3 3 3 3 3\n",
      " 3 4 2 2 2 4 3 2 3 3 4 3 3 2 3 3 2 2 3 2 2 3 3 3 2 3 2 2 4 4 3 2 3 2 3 3 2\n",
      " 3 3 3 4 2 2 3 3 4 2 3 3 4 4 3 3 2 2 3 4 2 3 3 3 2 3 3 3 2 2 3 3 3 4 2 3 3\n",
      " 2 3 2 3 2 3 3 3 4 2 3 2 2 3 2 3 3 3 3 3 4 3 3 2 3 2 2 3 3 3 3 2 2 2 2 2 3\n",
      " 4 2 3 3 3 4 2 3 4 3 3 4 2 2 2 4 3 3 3 3 4 2 3 3 2 3 3 2 3 3 3 3 3 3 3 3 3\n",
      " 3 3 3 3 3 3 3 3 3 3 3 3 3 3 3 3 3 3 3 3 3 3 3 3 3 3 3 3 3 3 3 3 3 3 3 3 3\n",
      " 3 3 3 3 3 3 3 3 3 2 3 3 3 3 3 2 3 3 3 3 3 3 3 3 3 3 3 3 3 3 3 3 3 3 2 3 3\n",
      " 3 3 3 3 3 3 3 3 3 3 3 3 3 3 3 3 3 3 3 3 3 3 3 3 3 3 3 3 3 2 3 3 3 3 3 3 4\n",
      " 3 3 3 3 3 3 3 3 3 3 3 3 3 3 3 3 2 3 3 3 3 3 3 3 3 3 3 3 3 3 3 3 2 3 3 3 3\n",
      " 3 3 3 3 3 3 3 3 3 3 3 3 3 3 3 3 3 3 3 3 3 3 3 3 3 3 3 3 3 3 3 3 3 3 3 3 3\n",
      " 3 3 3 3 3 3 3 3 0 0 0 0 0 0 2 0 0 2 0 0 0 4 3 0 0 0 2 0 0 0 0 0 0 0 0 0 0\n",
      " 0 0 0 0 0 0 0 0 0 0 0 0 0 0 3 0 0 0 0 0 0 2 2 2 4 0 0 0 0 0 0 0 0 0 0 0 0\n",
      " 0 0 0 0 0 0 0 0 0 0 0 0 0 0 0 3 2 0 0 3 0 0 0 0 0 0 0 0 0 0 0 2 0 0 0 0 0\n",
      " 0 2 0 0 0 3 0 0 0 0 0 0 0 3 0 0 2 0 0 0 0 3 0 0 0 0 0 0 0 0 0 0 0 0 0 0 0\n",
      " 2 0 0 0 0 3 0 0 0 0 0 2 2 0 0 2 0 0 2 0 0 0 0 0 3 0 0 0 0 0 0 0 2 0 0 2 4\n",
      " 0 0 0 0 0 0 0 3 0 0 0 0 0 0 0 0 0 0 0 0 0 0 0 1 2 1 1 1 1 1 1 1 1 1 4 1 1\n",
      " 1 1 1 1 1 2 1 4 1 1 1 1 1 1 1 1 1 1 1 1 1 1 1 1 1 2 1 1 1 1 4 1 1 1 1 2 1\n",
      " 1 1 1 1 1 1 1 1 1 1 1 1 1 1 1 1 2 1 1 1 2 1 1 2 4 1 1 2 1 2 4 1 1 1 1 1 2\n",
      " 1 1 1 1 1 1 1 2 1 1 1 2 1 1 1 1 1 1 1 1 1 1 2 1 1 1 1 1 1 4 1 1 1 1 1 1 1\n",
      " 1 1 1 1 1 1 1 1 1 1 1 1 1 1 1 2 1 1 2 1 2 2 1 1 1 1 1 1 1 1 1 1 1 1 1 1 1\n",
      " 1 1 3 1 1 4 1 1 1 1 1 1 1 1 1 1 1 4 1 1 1 1 1 1 1 1 2 1 2 1 1 2 1 1 1 4 1\n",
      " 4]\n",
      "**********************\n",
      "[3 3 3 3 3 3 3 3 3 3 3 3 3 3 3 3 3 3 3 3 3 3 3 3 3 3 3 3 3 3 3 3 3 3 3 3 3\n",
      " 3 3 3 3 3 3 3 3 3 3 3 3 3 3 3 3 3 3 3 3 3 3 3 3 3 3 3 3 3 3 3 3 3 3 3 3 3\n",
      " 3 3 3 3 3 3 3 3 3 3 3 3 3 3 3 3 3 3 3 3 3 3 3 3 3 3 3 3 3 3 3 3 3 3 3 3 3\n",
      " 3 3 3 3 3 3 3 3 3 3 3 3 3 3 3 3 3 3 3 3 3 3 3 3 3 3 3 3 3 3 3 3 3 3 3 3 3\n",
      " 3 3 3 3 3 3 3 3 3 3 3 3 3 3 3 3 3 3 3 3 3 3 3 3 3 3 3 3 3 3 3 3 3 3 3 3 3\n",
      " 3 3 3 3 3 3 3 3 3 3 3 3 3 3 3 2 2 2 2 2 2 2 2 2 2 2 2 2 2 2 2 2 2 2 2 2 2\n",
      " 2 2 2 2 2 2 2 2 2 2 2 2 2 2 2 2 2 2 2 2 2 2 2 2 2 2 2 2 2 2 2 2 2 2 2 2 2\n",
      " 2 2 2 2 2 2 2 2 2 2 2 2 2 2 2 2 2 2 2 2 2 2 2 2 2 2 2 2 2 2 2 2 2 2 2 2 2\n",
      " 2 2 2 2 2 2 2 2 2 2 2 2 2 2 2 2 2 2 2 2 2 2 2 2 2 2 2 2 2 2 2 2 2 2 2 2 2\n",
      " 2 2 2 2 2 2 2 2 2 2 2 2 2 2 2 2 2 2 2 2 2 2 2 2 2 2 2 2 2 2 2 2 2 2 2 2 2\n",
      " 2 2 2 2 2 2 2 2 2 2 2 2 2 2 2 2 2 2 2 2 2 2 2 2 2 2 2 2 2 2 4 4 4 4 4 4 4\n",
      " 4 4 4 4 4 4 4 4 4 4 4 4 4 4 4 4 4 4 4 4 4 4 4 4 4 4 4 4 4 4 4 4 4 4 4 4 4\n",
      " 4 4 4 4 4 4 4 4 4 4 4 4 4 4 4 4 4 4 4 4 4 4 4 4 4 4 4 4 4 4 4 4 4 4 4 4 4\n",
      " 4 4 4 4 4 4 4 4 4 4 4 4 4 4 4 4 4 4 4 4 4 4 4 4 4 4 4 4 4 4 4 4 4 4 4 4 4\n",
      " 4 4 4 4 4 4 4 4 4 4 4 4 4 4 4 4 4 4 4 4 4 4 4 4 4 4 4 4 4 4 4 4 4 4 4 4 4\n",
      " 4 4 4 4 4 4 4 4 4 4 4 4 4 4 4 4 4 4 4 4 4 4 4 4 4 4 4 4 4 4 4 4 4 4 4 4 4\n",
      " 4 4 4 4 4 4 4 4 0 0 0 0 0 0 0 0 0 0 0 0 0 0 0 0 0 0 0 0 0 0 0 0 0 0 0 0 0\n",
      " 0 0 0 0 0 0 0 0 0 0 0 0 0 0 0 0 0 0 0 0 0 0 0 0 0 0 0 0 0 0 0 0 0 0 0 0 0\n",
      " 0 0 0 0 0 0 0 0 0 0 0 0 0 0 0 0 0 0 0 0 0 0 0 0 0 0 0 0 0 0 0 0 0 0 0 0 0\n",
      " 0 0 0 0 0 0 0 0 0 0 0 0 0 0 0 0 0 0 0 0 0 0 0 0 0 0 0 0 0 0 0 0 0 0 0 0 0\n",
      " 0 0 0 0 0 0 0 0 0 0 0 0 0 0 0 0 0 0 0 0 0 0 0 0 0 0 0 0 0 0 0 0 0 0 0 0 0\n",
      " 0 0 0 0 0 0 0 0 0 0 0 0 0 0 0 0 0 0 0 0 0 0 0 1 1 1 1 1 1 1 1 1 1 1 1 1 1\n",
      " 1 1 1 1 1 1 1 1 1 1 1 1 1 1 1 1 1 1 1 1 1 1 1 1 1 1 1 1 1 1 1 1 1 1 1 1 1\n",
      " 1 1 1 1 1 1 1 1 1 1 1 1 1 1 1 1 1 1 1 1 1 1 1 1 1 1 1 1 1 1 1 1 1 1 1 1 1\n",
      " 1 1 1 1 1 1 1 1 1 1 1 1 1 1 1 1 1 1 1 1 1 1 1 1 1 1 1 1 1 1 1 1 1 1 1 1 1\n",
      " 1 1 1 1 1 1 1 1 1 1 1 1 1 1 1 1 1 1 1 1 1 1 1 1 1 1 1 1 1 1 1 1 1 1 1 1 1\n",
      " 1 1 1 1 1 1 1 1 1 1 1 1 1 1 1 1 1 1 1 1 1 1 1 1 1 1 1 1 1 1 1 1 1 1 1 1 1\n",
      " 1]\n"
     ]
    }
   ],
   "source": [
    "print(KM_BOW_LABEL)\n",
    "print(\"**********************\")\n",
    "print(KM_BOW_LABEL_NEW)"
   ]
  },
  {
   "cell_type": "code",
   "execution_count": 16,
   "id": "Drj32lWgbjqc",
   "metadata": {
    "colab": {
     "base_uri": "https://localhost:8080/"
    },
    "id": "Drj32lWgbjqc",
    "outputId": "59b37fae-0b82-4c90-dbde-4ea1588e4ced"
   },
   "outputs": [
    {
     "name": "stdout",
     "output_type": "stream",
     "text": [
      "kappa score in kmeans BOW =  0.4425\n",
      "silhouette score in kmeans BOW =  0.08308448141172835\n"
     ]
    }
   ],
   "source": [
    "#kappa\n",
    "kappa_score_kmeans_BOW =cohen_kappa_score(KM_BOW_LABEL,KM_BOW_LABEL_NEW)\n",
    "print(\"kappa score in kmeans BOW = \", kappa_score_kmeans_BOW)\n",
    "\n",
    "#silhouette\n",
    "silhouette_score_kmeans_BOW = silhouette_score(BOW_df, KM_BOW_LABEL)\n",
    "print(\"silhouette score in kmeans BOW = \", silhouette_score_kmeans_BOW)"
   ]
  },
  {
   "cell_type": "markdown",
   "id": "Mar-Iwq4Bi1D",
   "metadata": {
    "id": "Mar-Iwq4Bi1D"
   },
   "source": [
    "Error Analysis (Using Elbow Method)"
   ]
  },
  {
   "cell_type": "code",
   "execution_count": 19,
   "id": "NMJ3BB76AaYa",
   "metadata": {
    "colab": {
     "base_uri": "https://localhost:8080/"
    },
    "id": "NMJ3BB76AaYa",
    "outputId": "b4a3b45c-0339-4e05-d5c9-23e1908796d3"
   },
   "outputs": [
    {
     "name": "stderr",
     "output_type": "stream",
     "text": [
      "/usr/local/lib/python3.10/dist-packages/sklearn/cluster/_kmeans.py:870: FutureWarning: The default value of `n_init` will change from 10 to 'auto' in 1.4. Set the value of `n_init` explicitly to suppress the warning\n",
      "  warnings.warn(\n",
      "/usr/local/lib/python3.10/dist-packages/sklearn/cluster/_kmeans.py:870: FutureWarning: The default value of `n_init` will change from 10 to 'auto' in 1.4. Set the value of `n_init` explicitly to suppress the warning\n",
      "  warnings.warn(\n",
      "/usr/local/lib/python3.10/dist-packages/sklearn/cluster/_kmeans.py:870: FutureWarning: The default value of `n_init` will change from 10 to 'auto' in 1.4. Set the value of `n_init` explicitly to suppress the warning\n",
      "  warnings.warn(\n",
      "/usr/local/lib/python3.10/dist-packages/sklearn/cluster/_kmeans.py:870: FutureWarning: The default value of `n_init` will change from 10 to 'auto' in 1.4. Set the value of `n_init` explicitly to suppress the warning\n",
      "  warnings.warn(\n",
      "/usr/local/lib/python3.10/dist-packages/sklearn/cluster/_kmeans.py:870: FutureWarning: The default value of `n_init` will change from 10 to 'auto' in 1.4. Set the value of `n_init` explicitly to suppress the warning\n",
      "  warnings.warn(\n",
      "/usr/local/lib/python3.10/dist-packages/sklearn/cluster/_kmeans.py:870: FutureWarning: The default value of `n_init` will change from 10 to 'auto' in 1.4. Set the value of `n_init` explicitly to suppress the warning\n",
      "  warnings.warn(\n",
      "/usr/local/lib/python3.10/dist-packages/sklearn/cluster/_kmeans.py:870: FutureWarning: The default value of `n_init` will change from 10 to 'auto' in 1.4. Set the value of `n_init` explicitly to suppress the warning\n",
      "  warnings.warn(\n",
      "/usr/local/lib/python3.10/dist-packages/sklearn/cluster/_kmeans.py:870: FutureWarning: The default value of `n_init` will change from 10 to 'auto' in 1.4. Set the value of `n_init` explicitly to suppress the warning\n",
      "  warnings.warn(\n",
      "/usr/local/lib/python3.10/dist-packages/sklearn/cluster/_kmeans.py:870: FutureWarning: The default value of `n_init` will change from 10 to 'auto' in 1.4. Set the value of `n_init` explicitly to suppress the warning\n",
      "  warnings.warn(\n",
      "/usr/local/lib/python3.10/dist-packages/sklearn/cluster/_kmeans.py:870: FutureWarning: The default value of `n_init` will change from 10 to 'auto' in 1.4. Set the value of `n_init` explicitly to suppress the warning\n",
      "  warnings.warn(\n"
     ]
    }
   ],
   "source": [
    "# Elbow Method\n",
    "k_values = range(1, 11)\n",
    "distortion_values = []\n",
    "inertia_values = []\n",
    "\n",
    "for k in k_values:\n",
    "    KM_BOW = KMeans(n_clusters=k, random_state=42)\n",
    "    KM_BOW.fit(BOW_df)\n",
    "    distortion_values.append(KM_BOW.inertia_)\n",
    "    inertia_values.append(KM_BOW.inertia_)"
   ]
  },
  {
   "cell_type": "markdown",
   "id": "LYu7D5ekBzpB",
   "metadata": {
    "id": "LYu7D5ekBzpB"
   },
   "source": [
    "Visualizing the Results (Using the different values of Distortion)"
   ]
  },
  {
   "cell_type": "code",
   "execution_count": 20,
   "id": "D6M7uhU3Ae3B",
   "metadata": {
    "colab": {
     "base_uri": "https://localhost:8080/",
     "height": 663
    },
    "id": "D6M7uhU3Ae3B",
    "outputId": "d8d7857a-b061-4f4f-87d2-099550196725"
   },
   "outputs": [
    {
     "name": "stdout",
     "output_type": "stream",
     "text": [
      "    k     Distortion\n",
      "0   1  246703.022000\n",
      "1   2  206883.018061\n",
      "2   3  196677.685919\n",
      "3   4  190820.665555\n",
      "4   5  186577.109232\n",
      "5   6  180514.324198\n",
      "6   7  176603.153807\n",
      "7   8  172228.113638\n",
      "8   9  168194.572586\n",
      "9  10  164202.492369\n"
     ]
    },
    {
     "data": {
      "image/png": "[encoded data removed]",
      "text/plain": [
       "<Figure size 640x480 with 1 Axes>"
      ]
     },
     "metadata": {},
     "output_type": "display_data"
    }
   ],
   "source": [
    "# Tabulate the results\n",
    "results_df = pd.DataFrame({'k': k_values, 'Distortion': distortion_values})\n",
    "print(results_df)\n",
    "\n",
    "# Plotting the results\n",
    "plt.plot(k_values, distortion_values, marker='o')\n",
    "plt.xlabel('Number of Clusters (k)')\n",
    "plt.ylabel('Distortion')\n",
    "plt.title('Elbow Method - Distortion')\n",
    "plt.show()"
   ]
  },
  {
   "cell_type": "markdown",
   "id": "gP_zTNnDB-7B",
   "metadata": {
    "id": "gP_zTNnDB-7B"
   },
   "source": [
    "Visualizing the Results (Using different values of Inertia)"
   ]
  },
  {
   "cell_type": "code",
   "execution_count": 21,
   "id": "OH-lsvqiB_W6",
   "metadata": {
    "colab": {
     "base_uri": "https://localhost:8080/",
     "height": 663
    },
    "id": "OH-lsvqiB_W6",
    "outputId": "26bce653-ad02-4012-d177-eb0d25baaae4"
   },
   "outputs": [
    {
     "name": "stdout",
     "output_type": "stream",
     "text": [
      "    k        Inertia\n",
      "0   1  246703.022000\n",
      "1   2  206883.018061\n",
      "2   3  196677.685919\n",
      "3   4  190820.665555\n",
      "4   5  186577.109232\n",
      "5   6  180514.324198\n",
      "6   7  176603.153807\n",
      "7   8  172228.113638\n",
      "8   9  168194.572586\n",
      "9  10  164202.492369\n"
     ]
    },
    {
     "data": {
      "image/png": "[encoded data removed]",
      "text/plain": [
       "<Figure size 640x480 with 1 Axes>"
      ]
     },
     "metadata": {},
     "output_type": "display_data"
    }
   ],
   "source": [
    "# Tabulate the results\n",
    "results_df = pd.DataFrame({'k': k_values, 'Inertia': inertia_values})\n",
    "print(results_df)\n",
    "\n",
    "# Plotting the results\n",
    "plt.plot(k_values, inertia_values, marker='o')\n",
    "plt.xlabel('Number of Clusters (k)')\n",
    "plt.ylabel('Inertia')\n",
    "plt.title('Elbow Method - Inertia')\n",
    "plt.show()"
   ]
  },
  {
   "cell_type": "markdown",
   "id": "0aa3d4fb",
   "metadata": {},
   "source": [
    "# EM clustering algorithm"
   ]
  },
  {
   "cell_type": "code",
   "execution_count": 10,
   "id": "IqZIM7Bm1Yq_",
   "metadata": {
    "colab": {
     "base_uri": "https://localhost:8080/"
    },
    "id": "IqZIM7Bm1Yq_",
    "outputId": "731e179b-b7c0-4d82-bc8f-3f0626be774b"
   },
   "outputs": [
    {
     "data": {
      "text/plain": [
       "array([2, 2, 2, 4, 4, 2, 3, 3, 3, 2, 2, 2, 2, 3, 3, 2, 2, 3, 2, 2, 2, 4,\n",
       "       2, 4, 4, 2, 3, 2, 1, 4, 2, 2, 2, 2, 2, 2, 2, 2, 3, 2, 4, 2, 2, 2,\n",
       "       2, 2, 2, 2, 3, 3, 2, 2, 2, 2, 2, 2, 2, 4, 2, 3, 4, 2, 4, 3, 2, 2,\n",
       "       1, 2, 3, 3, 2, 4, 2, 2, 4, 2, 2, 2, 2, 1, 2, 2, 2, 2, 3, 2, 3, 4,\n",
       "       4, 2, 2, 2, 2, 2, 2, 2, 2, 2, 2, 2, 2, 2, 2, 2, 2, 2, 2, 2, 4, 2,\n",
       "       4, 2, 2, 2, 1, 2, 2, 2, 2, 4, 2, 2, 2, 4, 2, 2, 2, 2, 2, 2, 2, 2,\n",
       "       1, 2, 2, 2, 2, 2, 2, 2, 2, 3, 4, 2, 2, 2, 2, 2, 2, 2, 2, 2, 2, 2,\n",
       "       2, 3, 3, 2, 2, 4, 2, 2, 1, 2, 4, 2, 3, 2, 4, 4, 2, 2, 2, 2, 2, 2,\n",
       "       2, 2, 2, 2, 2, 2, 2, 3, 2, 2, 2, 3, 4, 4, 2, 2, 4, 2, 2, 2, 3, 2,\n",
       "       2, 3, 0, 4, 0, 0, 4, 3, 0, 0, 0, 4, 3, 3, 0, 4, 0, 4, 0, 1, 3, 0,\n",
       "       0, 0, 3, 0, 1, 0, 3, 0, 0, 0, 0, 0, 4, 0, 0, 0, 0, 4, 0, 0, 4, 4,\n",
       "       0, 1, 1, 0, 0, 3, 0, 0, 0, 0, 4, 3, 4, 0, 0, 1, 1, 0, 1, 0, 0, 0,\n",
       "       0, 3, 1, 3, 3, 0, 4, 3, 3, 1, 0, 0, 1, 1, 4, 4, 0, 4, 4, 0, 0, 4,\n",
       "       0, 0, 0, 4, 1, 3, 0, 0, 0, 0, 1, 0, 0, 3, 1, 4, 0, 3, 4, 1, 0, 0,\n",
       "       0, 0, 4, 3, 0, 1, 4, 1, 1, 3, 4, 0, 0, 1, 0, 3, 3, 0, 0, 3, 1, 0,\n",
       "       0, 4, 0, 4, 1, 0, 4, 4, 3, 4, 4, 1, 0, 0, 1, 3, 4, 4, 4, 0, 3, 3,\n",
       "       0, 0, 3, 0, 3, 0, 4, 0, 0, 1, 3, 0, 0, 4, 1, 0, 0, 0, 0, 0, 4, 0,\n",
       "       0, 0, 4, 0, 1, 0, 4, 4, 0, 3, 0, 0, 4, 1, 0, 3, 0, 3, 4, 3, 0, 1,\n",
       "       0, 4, 0, 3, 1, 1, 1, 1, 1, 3, 1, 1, 1, 1, 1, 1, 1, 1, 1, 1, 1, 1,\n",
       "       1, 1, 1, 1, 1, 1, 4, 1, 1, 1, 1, 1, 1, 1, 1, 1, 1, 1, 1, 1, 1, 1,\n",
       "       1, 1, 1, 1, 1, 1, 1, 1, 1, 1, 1, 1, 1, 3, 1, 1, 1, 1, 1, 1, 4, 1,\n",
       "       1, 1, 1, 1, 1, 1, 1, 1, 1, 1, 1, 1, 1, 1, 1, 1, 1, 1, 1, 1, 1, 1,\n",
       "       1, 1, 1, 1, 1, 1, 1, 1, 1, 1, 1, 1, 1, 1, 1, 1, 1, 3, 1, 1, 1, 1,\n",
       "       1, 1, 3, 1, 1, 1, 1, 1, 1, 1, 1, 1, 1, 1, 1, 1, 4, 1, 1, 1, 1, 1,\n",
       "       1, 1, 1, 4, 4, 1, 1, 1, 1, 1, 1, 1, 1, 1, 1, 1, 3, 1, 1, 1, 1, 3,\n",
       "       1, 1, 1, 1, 3, 4, 1, 1, 1, 1, 1, 1, 1, 1, 1, 1, 1, 1, 1, 1, 3, 1,\n",
       "       1, 1, 1, 1, 1, 1, 3, 1, 1, 1, 1, 1, 1, 1, 1, 1, 4, 1, 1, 1, 1, 1,\n",
       "       1, 1, 4, 1, 1, 4, 1, 1, 1, 1, 1, 1, 1, 1, 1, 1, 1, 1, 4, 1, 1, 1,\n",
       "       3, 1, 1, 1, 1, 4, 1, 1, 3, 1, 1, 1, 1, 1, 1, 1, 1, 1, 1, 1, 1, 1,\n",
       "       1, 1, 1, 1, 1, 1, 1, 1, 1, 3, 1, 1, 1, 1, 1, 1, 1, 1, 1, 1, 1, 1,\n",
       "       1, 1, 1, 1, 1, 1, 1, 1, 1, 1, 1, 1, 1, 1, 1, 1, 1, 1, 1, 1, 1, 1,\n",
       "       1, 1, 1, 1, 1, 1, 4, 1, 1, 1, 4, 1, 1, 1, 1, 1, 1, 1, 1, 1, 1, 1,\n",
       "       1, 1, 1, 1, 1, 1, 1, 1, 1, 4, 3, 1, 1, 1, 3, 1, 1, 1, 1, 4, 4, 4,\n",
       "       1, 1, 3, 1, 1, 1, 1, 4, 1, 1, 1, 1, 1, 1, 3, 1, 1, 4, 1, 1, 1, 1,\n",
       "       1, 1, 3, 1, 4, 1, 1, 1, 1, 1, 1, 1, 4, 1, 1, 1, 1, 1, 1, 1, 1, 1,\n",
       "       1, 1, 1, 1, 1, 1, 1, 1, 1, 1, 1, 1, 1, 1, 1, 1, 3, 1, 1, 1, 1, 1,\n",
       "       1, 1, 1, 1, 1, 1, 1, 1, 1, 1, 1, 1, 1, 1, 1, 1, 1, 1, 1, 1, 1, 4,\n",
       "       1, 1, 1, 1, 1, 1, 1, 1, 1, 1, 1, 1, 3, 4, 1, 1, 1, 1, 1, 1, 1, 1,\n",
       "       1, 1, 4, 1, 1, 1, 4, 3, 1, 4, 4, 4, 1, 1, 1, 1, 1, 3, 1, 1, 1, 4,\n",
       "       1, 1, 1, 1, 1, 1, 1, 1, 1, 1, 1, 4, 1, 1, 1, 1, 1, 1, 1, 1, 1, 1,\n",
       "       1, 1, 1, 1, 1, 1, 1, 4, 1, 1, 1, 1, 1, 1, 1, 1, 1, 1, 1, 3, 1, 4,\n",
       "       1, 1, 1, 1, 1, 1, 1, 1, 1, 1, 1, 1, 3, 1, 1, 1, 1, 1, 1, 3, 1, 3,\n",
       "       1, 1, 3, 1, 1, 1, 1, 1, 1, 1, 1, 1, 1, 4, 1, 1, 1, 1, 1, 3, 1, 3,\n",
       "       1, 1, 1, 1, 1, 1, 1, 1, 1, 4, 4, 1, 1, 1, 4, 1, 1, 1, 1, 1, 1, 1,\n",
       "       1, 1, 1, 1, 1, 1, 1, 4, 1, 1, 1, 1, 1, 1, 1, 3, 1, 1, 1, 1, 1, 1,\n",
       "       1, 1, 1, 1, 1, 4, 1, 4, 1, 4], dtype=int64)"
      ]
     },
     "execution_count": 10,
     "metadata": {},
     "output_type": "execute_result"
    }
   ],
   "source": [
    "# EM clustering algorithm\n",
    "em = GaussianMixture(n_components=5, random_state=42)\n",
    "em.fit(BOW_df)\n",
    "EM_BOW_LABEL = em.predict(BOW_df)\n",
    "EM_BOW_LABEL_NEW=map_label(EM_BOW_LABEL,human_label)\n",
    "EM_BOW_LABEL"
   ]
  },
  {
   "cell_type": "code",
   "execution_count": 11,
   "id": "b9cFqjsj36_9",
   "metadata": {
    "colab": {
     "base_uri": "https://localhost:8080/"
    },
    "id": "b9cFqjsj36_9",
    "outputId": "f7868ad2-7b4f-4fce-e6a9-e2b81f032efa"
   },
   "outputs": [
    {
     "name": "stdout",
     "output_type": "stream",
     "text": [
      "kappa score in EM BOW =  0.30874999999999997\n",
      "silhouette score in EM BOW =  0.06909859218634004\n"
     ]
    },
    {
     "name": "stderr",
     "output_type": "stream",
     "text": [
      "C:\\Users\\LENOVO\\anaconda3\\lib\\site-packages\\sklearn\\utils\\extmath.py:153: RuntimeWarning: invalid value encountered in matmul\n",
      "  ret = a @ b\n"
     ]
    }
   ],
   "source": [
    "#kappa\n",
    "kappa_score_EM_BOW =cohen_kappa_score(EM_BOW_LABEL,EM_BOW_LABEL_NEW)\n",
    "print(\"kappa score in EM BOW = \", kappa_score_EM_BOW)\n",
    "\n",
    "#silhouette\n",
    "silhouette_score_EM_BOW = silhouette_score(BOW_df, EM_BOW_LABEL)\n",
    "print(\"silhouette score in EM BOW = \", silhouette_score_EM_BOW)"
   ]
  },
  {
   "cell_type": "markdown",
   "id": "SKV_SOE-KWIF",
   "metadata": {
    "id": "SKV_SOE-KWIF"
   },
   "source": [
    "# Akaike information criterion (AIC) or the Bayesian information criterion (BIC)"
   ]
  },
  {
   "cell_type": "code",
   "execution_count": 22,
   "id": "78rSxSzzKVD0",
   "metadata": {
    "colab": {
     "base_uri": "https://localhost:8080/",
     "height": 235
    },
    "id": "78rSxSzzKVD0",
    "outputId": "cf2029ae-5a57-4e86-981c-2fb846966fd6"
   },
   "outputs": [
    {
     "name": "stderr",
     "output_type": "stream",
     "text": [
      "C:\\Users\\LENOVO\\anaconda3\\lib\\site-packages\\sklearn\\cluster\\_kmeans.py:1036: UserWarning: KMeans is known to have a memory leak on Windows with MKL, when there are less chunks than available threads. You can avoid it by setting the environment variable OMP_NUM_THREADS=4.\n",
      "  warnings.warn(\n"
     ]
    },
    {
     "data": {
      "image/png": "[encoded data removed]",
      "text/plain": [
       "<Figure size 432x288 with 1 Axes>"
      ]
     },
     "metadata": {
      "needs_background": "light"
     },
     "output_type": "display_data"
    }
   ],
   "source": [
    "from sklearn.utils import shuffle\n",
    "from sklearn.decomposition import PCA\n",
    "\n",
    "n_components = np.arange(1, 11)\n",
    "models = [GaussianMixture(n, random_state=0) for n in n_components]\n",
    "bic_scores = []\n",
    "aic_scores = []\n",
    "\n",
    "# Subsample the data\n",
    "subsample_size = 1000\n",
    "BOW_df_subsample = shuffle(BOW_df, random_state=0)[:subsample_size]\n",
    "\n",
    "# Perform PCA for dimensionality reduction\n",
    "pca = PCA(n_components=100)  # Adjust the number of components as needed\n",
    "BOW_df_pca = pca.fit_transform(BOW_df_subsample)\n",
    "\n",
    "for model in models:\n",
    "    # Fit the model on the PCA-transformed data\n",
    "    model.fit(BOW_df_pca)\n",
    "\n",
    "    # Calculate AIC and BIC scores\n",
    "    bic_scores.append(model.bic(BOW_df_pca))\n",
    "    aic_scores.append(model.aic(BOW_df_pca))\n",
    "\n",
    "# Plotting the results\n",
    "plt.plot(n_components, bic_scores, label='BIC')\n",
    "plt.plot(n_components, aic_scores, label='AIC')\n",
    "plt.legend(loc='best')\n",
    "plt.xlabel('n_components')\n",
    "plt.title('Akaike information criterion (AIC) or the Bayesian information criterion (BIC)')\n",
    "\n",
    "plt.show()"
   ]
  },
  {
   "cell_type": "markdown",
   "id": "3b0ac0b9",
   "metadata": {},
   "source": [
    "# Hierarchical clustering algorithm"
   ]
  },
  {
   "cell_type": "code",
   "execution_count": 23,
   "id": "qJ3Dv0Nr6jZd",
   "metadata": {
    "colab": {
     "base_uri": "https://localhost:8080/"
    },
    "id": "qJ3Dv0Nr6jZd",
    "outputId": "f87e450d-e62f-496a-d63d-50863d121d8c"
   },
   "outputs": [
    {
     "data": {
      "text/plain": [
       "array([1, 1, 1, 0, 0, 1, 2, 2, 2, 1, 1, 1, 1, 2, 2, 1, 1, 2, 1, 1, 1, 3,\n",
       "       1, 0, 0, 1, 2, 1, 3, 3, 1, 1, 1, 1, 1, 1, 1, 1, 2, 1, 3, 1, 1, 1,\n",
       "       1, 1, 1, 1, 2, 1, 1, 1, 1, 1, 1, 1, 1, 3, 1, 2, 0, 1, 0, 2, 1, 1,\n",
       "       3, 1, 2, 2, 1, 0, 1, 1, 0, 1, 1, 1, 1, 3, 1, 1, 1, 1, 2, 1, 2, 0,\n",
       "       0, 1, 1, 1, 1, 1, 1, 1, 1, 1, 1, 1, 1, 1, 1, 1, 1, 1, 1, 1, 0, 1,\n",
       "       0, 1, 1, 1, 3, 1, 1, 1, 1, 0, 1, 1, 1, 0, 1, 1, 1, 1, 1, 1, 1, 1,\n",
       "       3, 1, 1, 1, 1, 1, 1, 1, 1, 2, 0, 1, 1, 1, 1, 1, 1, 1, 1, 1, 1, 1,\n",
       "       1, 2, 2, 1, 1, 0, 1, 1, 1, 1, 0, 1, 2, 1, 0, 0, 1, 1, 1, 1, 1, 1,\n",
       "       1, 1, 1, 1, 1, 1, 1, 2, 1, 1, 1, 2, 0, 3, 1, 1, 0, 1, 1, 1, 2, 1,\n",
       "       1, 2, 1, 0, 1, 1, 0, 2, 1, 1, 1, 0, 2, 2, 1, 0, 1, 0, 1, 1, 2, 1,\n",
       "       1, 1, 2, 1, 1, 1, 2, 1, 1, 1, 1, 1, 0, 1, 1, 1, 1, 3, 1, 1, 0, 0,\n",
       "       1, 3, 1, 1, 1, 2, 1, 1, 1, 1, 0, 2, 3, 1, 1, 1, 1, 1, 1, 1, 1, 1,\n",
       "       1, 2, 3, 2, 2, 1, 0, 2, 2, 1, 1, 1, 1, 1, 0, 0, 1, 0, 0, 1, 1, 3,\n",
       "       1, 1, 1, 0, 1, 2, 1, 1, 1, 1, 3, 1, 1, 2, 1, 0, 1, 2, 0, 1, 1, 1,\n",
       "       1, 1, 0, 2, 1, 3, 0, 3, 3, 2, 0, 1, 1, 1, 1, 2, 2, 1, 1, 2, 1, 1,\n",
       "       1, 0, 1, 0, 3, 1, 3, 0, 2, 0, 0, 1, 1, 1, 1, 2, 0, 0, 3, 1, 2, 2,\n",
       "       1, 1, 2, 1, 2, 1, 3, 1, 1, 1, 2, 1, 1, 0, 1, 1, 1, 1, 1, 1, 0, 1,\n",
       "       1, 1, 0, 1, 1, 1, 0, 0, 1, 2, 1, 1, 0, 1, 1, 2, 1, 2, 0, 2, 1, 3,\n",
       "       1, 0, 1, 2, 1, 1, 1, 1, 1, 2, 1, 1, 1, 1, 1, 1, 1, 3, 1, 1, 1, 1,\n",
       "       1, 1, 1, 1, 1, 1, 0, 1, 1, 1, 1, 1, 1, 1, 1, 1, 1, 1, 1, 1, 1, 1,\n",
       "       1, 1, 1, 1, 1, 1, 1, 1, 1, 1, 1, 1, 1, 2, 1, 1, 1, 1, 1, 1, 0, 1,\n",
       "       1, 1, 1, 1, 1, 1, 1, 1, 1, 1, 1, 1, 1, 1, 1, 1, 1, 1, 1, 1, 1, 1,\n",
       "       1, 1, 1, 1, 1, 1, 1, 1, 1, 1, 1, 1, 1, 1, 1, 1, 1, 2, 1, 1, 1, 1,\n",
       "       1, 3, 2, 1, 1, 1, 1, 1, 1, 1, 1, 1, 1, 1, 1, 1, 0, 1, 1, 1, 1, 1,\n",
       "       1, 1, 1, 0, 0, 1, 1, 1, 1, 1, 1, 1, 1, 1, 1, 1, 2, 1, 1, 1, 1, 2,\n",
       "       1, 1, 1, 1, 2, 0, 1, 1, 1, 1, 1, 1, 1, 1, 1, 1, 1, 1, 1, 1, 2, 1,\n",
       "       1, 1, 1, 1, 1, 1, 2, 1, 1, 1, 1, 1, 1, 1, 1, 1, 0, 1, 1, 1, 1, 1,\n",
       "       1, 1, 0, 1, 1, 0, 1, 1, 1, 1, 1, 1, 1, 1, 1, 1, 1, 1, 0, 1, 1, 1,\n",
       "       2, 1, 1, 1, 1, 0, 1, 1, 2, 1, 1, 1, 1, 1, 1, 1, 1, 1, 1, 1, 1, 1,\n",
       "       1, 1, 1, 1, 1, 1, 1, 1, 1, 2, 1, 1, 1, 1, 1, 1, 1, 1, 1, 1, 1, 1,\n",
       "       1, 1, 1, 1, 1, 1, 1, 1, 1, 1, 1, 1, 1, 1, 1, 1, 1, 1, 1, 1, 1, 1,\n",
       "       1, 1, 1, 1, 1, 1, 0, 1, 1, 1, 3, 1, 1, 1, 1, 1, 1, 1, 1, 1, 1, 1,\n",
       "       1, 1, 1, 1, 1, 1, 1, 1, 1, 0, 2, 1, 1, 1, 2, 1, 1, 1, 1, 0, 0, 3,\n",
       "       1, 1, 2, 1, 1, 1, 1, 0, 1, 1, 1, 1, 1, 1, 2, 1, 1, 0, 1, 1, 1, 1,\n",
       "       1, 1, 2, 1, 0, 1, 1, 1, 1, 1, 1, 1, 0, 1, 3, 1, 1, 1, 1, 1, 1, 1,\n",
       "       1, 1, 1, 1, 1, 1, 1, 1, 1, 1, 1, 1, 1, 1, 1, 1, 2, 1, 3, 1, 1, 1,\n",
       "       1, 1, 1, 1, 1, 1, 1, 1, 4, 4, 4, 4, 4, 4, 4, 4, 4, 4, 4, 4, 4, 0,\n",
       "       4, 4, 4, 4, 4, 4, 4, 4, 4, 4, 4, 4, 2, 0, 4, 4, 4, 4, 4, 4, 4, 4,\n",
       "       4, 4, 0, 4, 4, 4, 0, 2, 4, 0, 3, 3, 4, 4, 4, 4, 4, 2, 4, 4, 4, 0,\n",
       "       4, 4, 4, 4, 4, 4, 4, 4, 4, 4, 4, 0, 4, 4, 4, 4, 4, 4, 4, 4, 4, 4,\n",
       "       4, 4, 4, 4, 4, 4, 4, 0, 4, 4, 4, 4, 4, 4, 4, 4, 4, 4, 4, 2, 4, 0,\n",
       "       4, 4, 4, 4, 4, 4, 4, 4, 4, 4, 4, 4, 2, 4, 4, 4, 4, 4, 4, 2, 4, 2,\n",
       "       4, 4, 2, 4, 4, 4, 4, 4, 3, 4, 4, 4, 4, 0, 4, 4, 4, 4, 4, 2, 4, 2,\n",
       "       4, 4, 4, 4, 4, 4, 4, 3, 4, 0, 0, 4, 4, 4, 0, 4, 4, 4, 4, 4, 4, 4,\n",
       "       4, 4, 4, 4, 4, 4, 4, 3, 3, 4, 4, 4, 4, 4, 4, 2, 4, 4, 4, 4, 4, 4,\n",
       "       4, 4, 4, 4, 4, 0, 4, 0, 4, 0], dtype=int64)"
      ]
     },
     "execution_count": 23,
     "metadata": {},
     "output_type": "execute_result"
    }
   ],
   "source": [
    "# Hierarchical clustering algorithm\n",
    "hierarchical = AgglomerativeClustering(n_clusters=5)\n",
    "hierarchical_labels = hierarchical.fit_predict((BOW_df))\n",
    "Hierarchical_BOW_LABEL_NEW=map_label(hierarchical_labels,human_label)\n",
    "hierarchical_labels"
   ]
  },
  {
   "cell_type": "code",
   "execution_count": 28,
   "id": "sUhHOHgT8d7T",
   "metadata": {
    "colab": {
     "base_uri": "https://localhost:8080/",
     "height": 564
    },
    "id": "sUhHOHgT8d7T",
    "outputId": "451efcbf-3436-4291-ce65-c4c85cadc4ca"
   },
   "outputs": [
    {
     "data": {
      "image/png": "[encoded data removed]",
      "text/plain": [
       "<Figure size 2160x1440 with 1 Axes>"
      ]
     },
     "metadata": {
      "needs_background": "light"
     },
     "output_type": "display_data"
    }
   ],
   "source": [
    "linked = linkage(count_array, 'complete')  # You can choose different linkage methods (single, complete, average, etc.)\n",
    "\n",
    "# Create a dendrogram\n",
    "plt.figure(figsize=(30, 20))\n",
    "dendrogram(linked)\n",
    "plt.title('Hierarchical Clustering Dendrogram')\n",
    "plt.xlabel('Data points')\n",
    "plt.ylabel('Distance')\n",
    "plt.show()"
   ]
  },
  {
   "cell_type": "code",
   "execution_count": 29,
   "id": "CH8AW8Rz7ttI",
   "metadata": {
    "colab": {
     "base_uri": "https://localhost:8080/"
    },
    "id": "CH8AW8Rz7ttI",
    "outputId": "d47b2810-b752-48f6-cff9-7fb1cd57c810"
   },
   "outputs": [
    {
     "name": "stdout",
     "output_type": "stream",
     "text": [
      "kappa score in Hierarchical BOW =  0.20125000000000004\n",
      "silhouette score in EM BOW =  0.07647901878686435\n"
     ]
    },
    {
     "name": "stderr",
     "output_type": "stream",
     "text": [
      "C:\\Users\\LENOVO\\anaconda3\\lib\\site-packages\\sklearn\\utils\\extmath.py:153: RuntimeWarning: invalid value encountered in matmul\n",
      "  ret = a @ b\n"
     ]
    }
   ],
   "source": [
    "#kappa\n",
    "kappa_score_Hierarchical_BOW =cohen_kappa_score(hierarchical_labels,Hierarchical_BOW_LABEL_NEW)\n",
    "print(\"kappa score in Hierarchical BOW = \", kappa_score_Hierarchical_BOW)\n",
    "\n",
    "#silhouette\n",
    "silhouette_score_Hierarchical_BOW = silhouette_score(BOW_df, hierarchical_labels)\n",
    "print(\"silhouette score in EM BOW = \", silhouette_score_Hierarchical_BOW)"
   ]
  },
  {
   "cell_type": "markdown",
   "id": "bbdade50",
   "metadata": {},
   "source": [
    "# Error Analysis (Using adjusted Rand index)"
   ]
  },
  {
   "cell_type": "code",
   "execution_count": 30,
   "id": "f0DZoSuMSCTx",
   "metadata": {
    "id": "f0DZoSuMSCTx"
   },
   "outputs": [
    {
     "name": "stdout",
     "output_type": "stream",
     "text": [
      "Adjusted Rand index: 0.1954633615937071\n"
     ]
    }
   ],
   "source": [
    "from sklearn.metrics import adjusted_rand_score\n",
    "from sklearn.metrics import fowlkes_mallows_score\n",
    "\n",
    "# Calculate adjusted Rand index\n",
    "ari_score = adjusted_rand_score(human_label, hierarchical_labels)\n",
    "\n",
    "print(\"Adjusted Rand index:\", ari_score)"
   ]
  },
  {
   "cell_type": "markdown",
   "id": "0881b8eb",
   "metadata": {},
   "source": [
    "# Error Analysis (Using Fowlkes-Mallows index)"
   ]
  },
  {
   "cell_type": "code",
   "execution_count": 31,
   "id": "9da349d1",
   "metadata": {},
   "outputs": [
    {
     "name": "stdout",
     "output_type": "stream",
     "text": [
      "Fowlkes-Mallows index: 0.4454864634137153\n"
     ]
    }
   ],
   "source": [
    "# Calculate Fowlkes-Mallows index\n",
    "fm_score = fowlkes_mallows_score(human_label, hierarchical_labels)\n",
    "\n",
    "print(\"Fowlkes-Mallows index:\", fm_score)"
   ]
  },
  {
   "cell_type": "markdown",
   "id": "5e9d1c12",
   "metadata": {},
   "source": [
    "# TF-IDF"
   ]
  },
  {
   "cell_type": "code",
   "execution_count": null,
   "id": "a1ff29b4",
   "metadata": {
    "colab": {
     "base_uri": "https://localhost:8080/",
     "height": 423
    },
    "id": "a1ff29b4",
    "outputId": "c1391b9f-19c7-4361-b58f-89553f37dde1"
   },
   "outputs": [],
   "source": [
    "#TF-IDF\n",
    "from sklearn.feature_extraction.text import TfidfVectorizer\n",
    "vectorizer = TfidfVectorizer()\n",
    "vectors = vectorizer.fit_transform(data['partitions'])\n",
    "dense = vectors.toarray()\n",
    "\n",
    "TF_IDF_df = pd.DataFrame(dense, columns=vectorizer.get_feature_names_out())\n",
    "TF_IDF_df"
   ]
  },
  {
   "cell_type": "markdown",
   "id": "f354a84f",
   "metadata": {},
   "source": [
    "# K_Means"
   ]
  },
  {
   "cell_type": "code",
   "execution_count": 33,
   "id": "-bec06qjCIoq",
   "metadata": {
    "colab": {
     "base_uri": "https://localhost:8080/"
    },
    "id": "-bec06qjCIoq",
    "outputId": "f382d436-1091-43a9-d5c2-85e19656ce2f"
   },
   "outputs": [],
   "source": [
    "#K_Means TF_IDF\n",
    "KM_TF_IDF=KMeans(n_clusters=5, random_state=42)\n",
    "KM_TF_IDF.fit(TF_IDF_df)\n",
    "KM_TF_IDF_LABEL=KM_TF_IDF.predict(TF_IDF_df)\n",
    "KM_TF_IDF_LABEL_NEW=map_label(KM_TF_IDF_LABEL,human_label)"
   ]
  },
  {
   "cell_type": "code",
   "execution_count": 34,
   "id": "kswHxuSebpT_",
   "metadata": {
    "colab": {
     "base_uri": "https://localhost:8080/"
    },
    "id": "kswHxuSebpT_",
    "outputId": "38ef3c49-3cf8-4336-a7f0-539bea33850e"
   },
   "outputs": [
    {
     "name": "stdout",
     "output_type": "stream",
     "text": [
      "kappa score in kmeans TF_IDF =  0.27749999999999997\n",
      "silhouette score in kmeans TF_IDF =  0.06999344396773075\n"
     ]
    },
    {
     "name": "stderr",
     "output_type": "stream",
     "text": [
      "C:\\Users\\LENOVO\\anaconda3\\lib\\site-packages\\sklearn\\utils\\extmath.py:153: RuntimeWarning: invalid value encountered in matmul\n",
      "  ret = a @ b\n"
     ]
    }
   ],
   "source": [
    "#kappa\n",
    "kappa_score_kmeans_TF_IDF=cohen_kappa_score(KM_TF_IDF_LABEL,KM_TF_IDF_LABEL_NEW)\n",
    "print(\"kappa score in kmeans TF_IDF = \", kappa_score_kmeans_TF_IDF)\n",
    "\n",
    "#silhouette\n",
    "silhouette_score_kmeans_TF_IDF = silhouette_score(TF_IDF_df, KM_TF_IDF_LABEL)\n",
    "print(\"silhouette score in kmeans TF_IDF = \", silhouette_score_kmeans_TF_IDF)"
   ]
  },
  {
   "cell_type": "markdown",
   "id": "Vgmu1FalN5QE",
   "metadata": {
    "id": "Vgmu1FalN5QE"
   },
   "source": [
    "# Error Analysis (Using Elbow Method)"
   ]
  },
  {
   "cell_type": "code",
   "execution_count": 35,
   "id": "6_psSpvRN5kL",
   "metadata": {
    "id": "6_psSpvRN5kL"
   },
   "outputs": [
    {
     "name": "stderr",
     "output_type": "stream",
     "text": [
      "C:\\Users\\LENOVO\\anaconda3\\lib\\site-packages\\sklearn\\cluster\\_kmeans.py:1036: UserWarning: KMeans is known to have a memory leak on Windows with MKL, when there are less chunks than available threads. You can avoid it by setting the environment variable OMP_NUM_THREADS=4.\n",
      "  warnings.warn(\n"
     ]
    }
   ],
   "source": [
    "# Elbow Method\n",
    "k_values = range(1, 11)\n",
    "distortion_values = []\n",
    "inertia_values = []\n",
    "\n",
    "for k in k_values:\n",
    "    KM_TF_IDF = KMeans(n_clusters=k, random_state=42)\n",
    "    KM_TF_IDF.fit(TF_IDF_df)\n",
    "    distortion_values.append(KM_TF_IDF.inertia_)\n",
    "    inertia_values.append(KM_TF_IDF.inertia_)"
   ]
  },
  {
   "cell_type": "markdown",
   "id": "rN6Ax6ZnN5wT",
   "metadata": {
    "id": "rN6Ax6ZnN5wT"
   },
   "source": [
    "# Visualizing the Results (Using the different values of Distortion)"
   ]
  },
  {
   "cell_type": "code",
   "execution_count": 36,
   "id": "dXnkN_m8N56N",
   "metadata": {
    "id": "dXnkN_m8N56N"
   },
   "outputs": [
    {
     "name": "stdout",
     "output_type": "stream",
     "text": [
      "    k  Distortion\n",
      "0   1  940.660678\n",
      "1   2  869.125831\n",
      "2   3  849.103962\n",
      "3   4  833.020956\n",
      "4   5  816.543296\n",
      "5   6  800.321032\n",
      "6   7  777.841175\n",
      "7   8  762.845728\n",
      "8   9  751.532890\n",
      "9  10  739.305869\n"
     ]
    },
    {
     "data": {
      "image/png": "[encoded data removed]",
      "text/plain": [
       "<Figure size 432x288 with 1 Axes>"
      ]
     },
     "metadata": {
      "needs_background": "light"
     },
     "output_type": "display_data"
    }
   ],
   "source": [
    "# Tabulate the results\n",
    "results_df = pd.DataFrame({'k': k_values, 'Distortion': distortion_values})\n",
    "print(results_df)\n",
    "\n",
    "# Plotting the results\n",
    "plt.plot(k_values, distortion_values, marker='o')\n",
    "plt.xlabel('Number of Clusters (k)')\n",
    "plt.ylabel('Distortion')\n",
    "plt.title('Elbow Method - Distortion')\n",
    "plt.show()"
   ]
  },
  {
   "cell_type": "markdown",
   "id": "rMzoGC_IN6Cq",
   "metadata": {
    "id": "rMzoGC_IN6Cq"
   },
   "source": [
    "# Visualizing the Results (Using different values of Inertia)"
   ]
  },
  {
   "cell_type": "code",
   "execution_count": 37,
   "id": "ko5eEwbON6LE",
   "metadata": {
    "id": "ko5eEwbON6LE"
   },
   "outputs": [
    {
     "name": "stdout",
     "output_type": "stream",
     "text": [
      "    k     Inertia\n",
      "0   1  940.660678\n",
      "1   2  869.125831\n",
      "2   3  849.103962\n",
      "3   4  833.020956\n",
      "4   5  816.543296\n",
      "5   6  800.321032\n",
      "6   7  777.841175\n",
      "7   8  762.845728\n",
      "8   9  751.532890\n",
      "9  10  739.305869\n"
     ]
    },
    {
     "data": {
      "image/png": "[encoded data removed]",
      "text/plain": [
       "<Figure size 432x288 with 1 Axes>"
      ]
     },
     "metadata": {
      "needs_background": "light"
     },
     "output_type": "display_data"
    }
   ],
   "source": [
    "# Tabulate the results\n",
    "results_df = pd.DataFrame({'k': k_values, 'Inertia': inertia_values})\n",
    "print(results_df)\n",
    "\n",
    "# Plotting the results\n",
    "plt.plot(k_values, inertia_values, marker='o')\n",
    "plt.xlabel('Number of Clusters (k)')\n",
    "plt.ylabel('Inertia')\n",
    "plt.title('Elbow Method - Inertia')\n",
    "plt.show()"
   ]
  },
  {
   "cell_type": "markdown",
   "id": "54f4177f",
   "metadata": {},
   "source": [
    "# EM clustering algorithm"
   ]
  },
  {
   "cell_type": "code",
   "execution_count": 38,
   "id": "IwoqIcWQ_slb",
   "metadata": {
    "colab": {
     "base_uri": "https://localhost:8080/"
    },
    "id": "IwoqIcWQ_slb",
    "outputId": "3aa1e849-0a1d-4c40-cf7d-5493e8a15fa5"
   },
   "outputs": [
    {
     "data": {
      "text/plain": [
       "array([2, 2, 2, 3, 0, 2, 3, 3, 3, 2, 2, 2, 2, 3, 3, 4, 2, 3, 2, 2, 2, 3,\n",
       "       4, 3, 0, 4, 3, 4, 3, 3, 2, 2, 4, 2, 4, 2, 2, 2, 3, 2, 3, 2, 2, 2,\n",
       "       2, 2, 2, 4, 3, 3, 2, 2, 2, 2, 2, 2, 4, 3, 4, 3, 0, 2, 0, 3, 4, 2,\n",
       "       3, 2, 3, 3, 2, 0, 2, 2, 0, 2, 4, 2, 2, 3, 2, 2, 2, 3, 3, 2, 3, 0,\n",
       "       0, 2, 2, 2, 2, 2, 2, 4, 2, 2, 2, 2, 2, 2, 2, 2, 2, 2, 2, 2, 0, 2,\n",
       "       0, 2, 2, 2, 3, 4, 2, 2, 2, 0, 2, 2, 2, 0, 2, 2, 2, 2, 2, 2, 4, 2,\n",
       "       3, 4, 2, 2, 2, 4, 2, 2, 2, 3, 0, 2, 2, 2, 2, 4, 2, 2, 2, 2, 2, 2,\n",
       "       2, 3, 3, 2, 2, 0, 2, 2, 3, 2, 3, 2, 3, 2, 0, 0, 2, 2, 2, 2, 2, 2,\n",
       "       2, 2, 2, 2, 4, 2, 2, 3, 2, 2, 2, 3, 0, 3, 2, 2, 0, 2, 2, 2, 3, 2,\n",
       "       3, 3, 4, 0, 4, 4, 0, 3, 4, 4, 4, 0, 3, 3, 4, 0, 4, 3, 4, 4, 3, 4,\n",
       "       4, 4, 3, 4, 4, 4, 3, 4, 4, 4, 4, 4, 0, 4, 4, 4, 4, 3, 4, 4, 0, 0,\n",
       "       4, 3, 4, 4, 4, 3, 4, 4, 4, 4, 3, 3, 3, 4, 4, 4, 4, 4, 4, 4, 4, 4,\n",
       "       4, 3, 3, 3, 3, 4, 0, 3, 3, 4, 4, 4, 4, 4, 0, 0, 4, 0, 0, 4, 4, 3,\n",
       "       4, 4, 4, 0, 4, 3, 4, 4, 4, 4, 3, 4, 4, 3, 4, 0, 4, 3, 0, 4, 4, 4,\n",
       "       4, 4, 0, 3, 4, 3, 0, 3, 3, 3, 0, 4, 4, 4, 4, 3, 3, 4, 4, 3, 4, 4,\n",
       "       4, 0, 4, 0, 3, 4, 3, 0, 3, 0, 0, 4, 4, 4, 4, 3, 0, 0, 3, 4, 3, 3,\n",
       "       4, 4, 3, 4, 3, 4, 3, 4, 4, 3, 3, 4, 4, 0, 4, 4, 4, 4, 4, 4, 0, 4,\n",
       "       4, 4, 0, 4, 4, 4, 0, 0, 4, 3, 4, 4, 0, 4, 4, 3, 4, 3, 0, 3, 4, 3,\n",
       "       4, 0, 4, 3, 4, 4, 4, 4, 4, 3, 4, 4, 4, 4, 4, 4, 4, 3, 4, 4, 4, 4,\n",
       "       4, 4, 4, 4, 4, 4, 0, 4, 4, 4, 4, 4, 4, 4, 4, 4, 4, 4, 4, 4, 4, 4,\n",
       "       4, 4, 4, 4, 4, 4, 4, 4, 4, 4, 4, 4, 4, 3, 4, 4, 4, 4, 4, 4, 0, 4,\n",
       "       4, 4, 4, 4, 4, 4, 4, 4, 4, 4, 4, 4, 4, 4, 4, 4, 4, 4, 4, 4, 4, 4,\n",
       "       4, 4, 4, 4, 4, 4, 4, 4, 4, 4, 4, 4, 4, 4, 4, 4, 4, 3, 4, 4, 4, 4,\n",
       "       4, 3, 3, 4, 4, 4, 4, 4, 4, 4, 4, 4, 4, 4, 4, 4, 0, 4, 4, 4, 4, 4,\n",
       "       4, 4, 4, 0, 0, 4, 4, 4, 4, 4, 4, 4, 4, 4, 4, 4, 3, 4, 4, 4, 4, 3,\n",
       "       4, 4, 4, 4, 3, 0, 4, 4, 4, 4, 4, 4, 4, 4, 4, 4, 4, 4, 4, 4, 3, 4,\n",
       "       4, 4, 4, 4, 4, 4, 3, 4, 4, 4, 4, 4, 4, 4, 4, 4, 0, 4, 4, 4, 4, 4,\n",
       "       4, 4, 0, 4, 4, 0, 1, 1, 1, 1, 1, 1, 1, 1, 1, 1, 1, 1, 0, 1, 1, 1,\n",
       "       3, 1, 1, 1, 1, 0, 1, 1, 3, 1, 1, 1, 1, 1, 1, 1, 1, 1, 1, 1, 1, 1,\n",
       "       1, 1, 1, 1, 1, 1, 1, 1, 1, 3, 1, 1, 1, 1, 1, 1, 1, 1, 1, 1, 1, 1,\n",
       "       1, 1, 1, 1, 1, 1, 1, 1, 1, 1, 1, 1, 1, 1, 1, 1, 1, 1, 1, 1, 1, 1,\n",
       "       1, 1, 1, 1, 1, 1, 0, 1, 1, 1, 3, 1, 1, 1, 4, 1, 1, 1, 1, 1, 1, 4,\n",
       "       1, 1, 1, 1, 1, 1, 1, 1, 4, 0, 3, 1, 1, 4, 3, 1, 1, 1, 1, 0, 0, 3,\n",
       "       1, 1, 3, 1, 1, 1, 1, 0, 1, 1, 1, 1, 1, 1, 3, 1, 1, 0, 1, 1, 1, 3,\n",
       "       1, 1, 3, 1, 0, 1, 1, 1, 1, 1, 1, 1, 0, 1, 3, 1, 1, 1, 1, 1, 1, 1,\n",
       "       1, 1, 1, 1, 1, 1, 1, 1, 1, 1, 1, 1, 1, 4, 1, 1, 3, 1, 3, 1, 1, 1,\n",
       "       1, 1, 1, 1, 1, 1, 1, 1, 4, 4, 4, 4, 4, 4, 4, 4, 4, 4, 4, 4, 4, 0,\n",
       "       4, 4, 4, 4, 4, 3, 4, 4, 4, 4, 4, 4, 3, 0, 4, 4, 4, 4, 4, 4, 4, 4,\n",
       "       4, 4, 0, 4, 4, 4, 0, 3, 4, 0, 3, 3, 4, 4, 4, 4, 4, 3, 4, 4, 4, 0,\n",
       "       4, 4, 4, 4, 4, 4, 4, 4, 4, 4, 4, 3, 4, 4, 4, 4, 4, 4, 4, 4, 4, 4,\n",
       "       4, 4, 4, 4, 4, 4, 4, 3, 4, 4, 4, 4, 4, 4, 3, 4, 4, 4, 4, 3, 4, 0,\n",
       "       4, 4, 4, 4, 4, 4, 4, 4, 4, 4, 4, 4, 3, 4, 4, 4, 4, 4, 4, 3, 4, 3,\n",
       "       4, 4, 3, 4, 4, 4, 4, 4, 3, 4, 4, 4, 4, 0, 4, 4, 4, 4, 4, 3, 4, 3,\n",
       "       4, 4, 4, 4, 4, 4, 4, 3, 4, 0, 0, 4, 4, 4, 0, 4, 4, 4, 4, 4, 4, 4,\n",
       "       4, 4, 4, 4, 4, 4, 4, 3, 3, 4, 4, 4, 4, 4, 4, 3, 4, 4, 4, 4, 4, 4,\n",
       "       4, 4, 4, 4, 4, 0, 4, 3, 4, 3], dtype=int64)"
      ]
     },
     "execution_count": 38,
     "metadata": {},
     "output_type": "execute_result"
    }
   ],
   "source": [
    "# EM clustering algorithm\n",
    "em = GaussianMixture(n_components=5, random_state=42)\n",
    "em.fit(TF_IDF_df)\n",
    "EM_TFIDF_LABEL = em.predict(TF_IDF_df)\n",
    "EM_TFIDF_LABEL_NEW=map_label(EM_TFIDF_LABEL,human_label)\n",
    "EM_TFIDF_LABEL"
   ]
  },
  {
   "cell_type": "code",
   "execution_count": 39,
   "id": "TEJWkIkw_y9W",
   "metadata": {
    "colab": {
     "base_uri": "https://localhost:8080/"
    },
    "id": "TEJWkIkw_y9W",
    "outputId": "bc083d9e-3ebb-4479-e5fe-2a0d6bcf91bf"
   },
   "outputs": [
    {
     "name": "stdout",
     "output_type": "stream",
     "text": [
      "kappa score in EM TFIDF =  0.29374999999999996\n",
      "silhouette score in EM TFIDF =  0.0533462963446379\n"
     ]
    },
    {
     "name": "stderr",
     "output_type": "stream",
     "text": [
      "C:\\Users\\LENOVO\\anaconda3\\lib\\site-packages\\sklearn\\utils\\extmath.py:153: RuntimeWarning: invalid value encountered in matmul\n",
      "  ret = a @ b\n"
     ]
    }
   ],
   "source": [
    "#kappa\n",
    "kappa_score_EM_TFIDF =cohen_kappa_score(EM_TFIDF_LABEL,EM_TFIDF_LABEL_NEW)\n",
    "print(\"kappa score in EM TFIDF = \", kappa_score_EM_TFIDF)\n",
    "\n",
    "#silhouette\n",
    "silhouette_score_EM_TFIDF = silhouette_score(TF_IDF_df, EM_TFIDF_LABEL)\n",
    "print(\"silhouette score in EM TFIDF = \", silhouette_score_EM_TFIDF)"
   ]
  },
  {
   "cell_type": "markdown",
   "id": "03f79d48",
   "metadata": {},
   "source": [
    "# Akaike information criterion (AIC) or the Bayesian information criterion (BIC)"
   ]
  },
  {
   "cell_type": "code",
   "execution_count": 41,
   "id": "8fc21169",
   "metadata": {},
   "outputs": [
    {
     "name": "stderr",
     "output_type": "stream",
     "text": [
      "C:\\Users\\LENOVO\\anaconda3\\lib\\site-packages\\sklearn\\cluster\\_kmeans.py:1036: UserWarning: KMeans is known to have a memory leak on Windows with MKL, when there are less chunks than available threads. You can avoid it by setting the environment variable OMP_NUM_THREADS=4.\n",
      "  warnings.warn(\n"
     ]
    },
    {
     "data": {
      "image/png": "[encoded data removed]",
      "text/plain": [
       "<Figure size 432x288 with 1 Axes>"
      ]
     },
     "metadata": {
      "needs_background": "light"
     },
     "output_type": "display_data"
    }
   ],
   "source": [
    "from sklearn.utils import shuffle\n",
    "from sklearn.decomposition import PCA\n",
    "\n",
    "n_components = np.arange(1, 11)\n",
    "models = [GaussianMixture(n, random_state=0) for n in n_components]\n",
    "bic_scores = []\n",
    "aic_scores = []\n",
    "\n",
    "# Subsample the data\n",
    "subsample_size = 1000\n",
    "Tfidf_subsample = shuffle(TF_IDF_df, random_state=0)[:subsample_size]\n",
    "\n",
    "# Perform PCA for dimensionality reduction\n",
    "pca = PCA(n_components=100)  # Adjust the number of components as needed\n",
    "Tfidf_pca = pca.fit_transform(Tfidf_subsample)\n",
    "\n",
    "for model in models:\n",
    "    # Fit the model on the PCA-transformed data\n",
    "    model.fit(Tfidf_pca)\n",
    "\n",
    "    # Calculate AIC and BIC scores\n",
    "    bic_scores.append(model.bic(Tfidf_pca))\n",
    "    aic_scores.append(model.aic(Tfidf_pca))\n",
    "\n",
    "# Plotting the results\n",
    "plt.plot(n_components, bic_scores, label='BIC')\n",
    "plt.plot(n_components, aic_scores, label='AIC')\n",
    "plt.legend(loc='best')\n",
    "plt.xlabel('n_components')\n",
    "plt.title('Akaike information criterion (AIC) or the Bayesian information criterion (BIC)')\n",
    "\n",
    "plt.show()"
   ]
  },
  {
   "cell_type": "markdown",
   "id": "b4f351ff",
   "metadata": {},
   "source": [
    "# Hierarchical clustering algorithm"
   ]
  },
  {
   "cell_type": "code",
   "execution_count": 74,
   "id": "9IrCp593_4U5",
   "metadata": {
    "colab": {
     "base_uri": "https://localhost:8080/"
    },
    "id": "9IrCp593_4U5",
    "outputId": "23234b35-efb9-4837-a710-2b732fcd9f25"
   },
   "outputs": [
    {
     "data": {
      "text/plain": [
       "array([0, 0, 0, 2, 0, 1, 0, 0, 1, 0, 0, 0, 0, 0, 1, 3, 0, 0, 0, 0, 2, 2,\n",
       "       0, 0, 3, 0, 1, 0, 0, 1, 1, 0, 0, 0, 1, 0, 1, 0, 1, 3, 0, 0, 0, 0,\n",
       "       3, 0, 0, 0, 0, 0, 2, 0, 0, 1, 2, 2, 0, 0, 0, 2, 0, 0, 0, 0, 0, 0,\n",
       "       0, 0, 0, 0, 0, 0, 0, 0, 0, 2, 0, 2, 0, 0, 2, 2, 0, 0, 0, 0, 0, 2,\n",
       "       0, 0, 0, 2, 0, 2, 0, 0, 0, 0, 0, 2, 0, 0, 0, 0, 2, 0, 0, 0, 2, 0,\n",
       "       0, 0, 0, 2, 0, 1, 2, 3, 0, 0, 1, 2, 0, 0, 0, 2, 0, 2, 0, 0, 2, 0,\n",
       "       1, 2, 0, 0, 0, 0, 2, 2, 0, 0, 2, 0, 1, 0, 0, 0, 0, 1, 0, 0, 1, 0,\n",
       "       0, 0, 0, 1, 2, 0, 0, 0, 0, 0, 0, 1, 1, 0, 0, 0, 2, 0, 0, 0, 0, 0,\n",
       "       0, 0, 0, 0, 0, 0, 0, 0, 2, 2, 0, 2, 0, 0, 0, 3, 0, 2, 0, 0, 0, 1,\n",
       "       2, 3, 3, 2, 4, 0, 0, 4, 0, 4, 1, 4, 2, 2, 3, 4, 4, 4, 3, 3, 4, 4,\n",
       "       4, 1, 4, 4, 3, 2, 2, 4, 4, 2, 2, 4, 4, 4, 0, 4, 2, 2, 0, 4, 2, 2,\n",
       "       4, 2, 4, 2, 2, 4, 4, 0, 3, 3, 2, 2, 4, 4, 1, 4, 2, 0, 1, 2, 4, 2,\n",
       "       2, 1, 0, 2, 0, 4, 4, 2, 3, 1, 4, 1, 1, 4, 1, 1, 4, 4, 3, 4, 4, 1,\n",
       "       4, 4, 0, 1, 2, 4, 4, 1, 2, 1, 4, 3, 4, 2, 4, 4, 2, 2, 4, 1, 3, 4,\n",
       "       4, 1, 4, 2, 3, 2, 2, 2, 4, 1, 4, 1, 2, 3, 2, 1, 4, 3, 2, 1, 0, 2,\n",
       "       2, 1, 2, 4, 2, 4, 4, 4, 4, 2, 0, 2, 2, 2, 2, 0, 2, 4, 0, 2, 0, 2,\n",
       "       1, 2, 3, 4, 2, 2, 0, 2, 2, 1, 2, 3, 4, 0, 3, 4, 4, 1, 2, 0, 4, 0,\n",
       "       2, 2, 4, 4, 2, 2, 2, 4, 2, 4, 1, 4, 4, 4, 0, 4, 2, 4, 4, 1, 4, 4,\n",
       "       4, 0, 4, 2, 0, 0, 0, 0, 0, 0, 0, 0, 0, 0, 0, 0, 0, 0, 0, 0, 0, 0,\n",
       "       0, 0, 0, 0, 0, 0, 0, 0, 0, 0, 0, 0, 0, 0, 0, 0, 0, 0, 0, 0, 0, 0,\n",
       "       0, 0, 0, 1, 0, 0, 0, 0, 0, 0, 0, 0, 0, 0, 0, 0, 0, 0, 0, 0, 0, 2,\n",
       "       0, 0, 0, 0, 0, 0, 0, 0, 0, 0, 0, 0, 0, 0, 0, 0, 0, 0, 0, 2, 0, 0,\n",
       "       0, 0, 0, 0, 0, 0, 0, 0, 0, 0, 0, 0, 0, 0, 0, 0, 0, 0, 0, 0, 0, 0,\n",
       "       0, 0, 0, 0, 0, 0, 0, 0, 0, 0, 0, 0, 0, 0, 0, 0, 0, 0, 0, 0, 0, 0,\n",
       "       0, 0, 0, 0, 0, 0, 0, 0, 0, 0, 0, 0, 0, 0, 0, 0, 0, 0, 0, 0, 0, 0,\n",
       "       2, 0, 0, 0, 0, 0, 0, 0, 0, 0, 0, 2, 0, 0, 0, 0, 0, 0, 0, 0, 0, 0,\n",
       "       0, 0, 0, 0, 0, 0, 0, 0, 0, 0, 0, 0, 1, 0, 0, 0, 0, 0, 0, 0, 0, 0,\n",
       "       0, 0, 0, 0, 0, 0, 0, 0, 0, 1, 2, 0, 0, 0, 0, 0, 3, 0, 0, 0, 0, 0,\n",
       "       0, 0, 0, 0, 0, 0, 0, 0, 0, 0, 0, 0, 0, 0, 0, 0, 0, 0, 0, 0, 0, 0,\n",
       "       2, 0, 0, 0, 0, 0, 0, 0, 0, 0, 0, 0, 0, 0, 0, 0, 0, 0, 0, 0, 2, 0,\n",
       "       0, 0, 0, 0, 0, 0, 0, 0, 0, 0, 0, 0, 0, 0, 0, 0, 0, 0, 2, 0, 0, 0,\n",
       "       0, 0, 0, 0, 0, 0, 0, 0, 0, 0, 0, 3, 0, 0, 0, 0, 0, 3, 0, 0, 0, 0,\n",
       "       0, 0, 0, 2, 0, 2, 0, 2, 0, 0, 0, 2, 0, 0, 0, 0, 0, 0, 0, 0, 0, 0,\n",
       "       0, 2, 0, 0, 0, 0, 0, 0, 0, 0, 2, 0, 0, 0, 0, 0, 0, 0, 0, 0, 0, 0,\n",
       "       0, 0, 0, 0, 2, 2, 0, 0, 0, 0, 0, 0, 0, 0, 0, 0, 0, 2, 0, 0, 0, 0,\n",
       "       0, 0, 0, 0, 0, 0, 0, 0, 0, 0, 0, 0, 0, 0, 0, 0, 0, 0, 0, 0, 0, 0,\n",
       "       0, 0, 0, 0, 0, 0, 3, 0, 0, 0, 2, 0, 0, 0, 2, 0, 0, 0, 0, 0, 0, 0,\n",
       "       0, 2, 0, 2, 2, 0, 0, 0, 0, 0, 0, 0, 0, 0, 2, 0, 0, 0, 0, 0, 0, 2,\n",
       "       2, 0, 0, 2, 0, 0, 1, 2, 0, 0, 0, 0, 0, 0, 0, 0, 2, 0, 0, 0, 0, 0,\n",
       "       0, 0, 0, 0, 0, 2, 2, 0, 0, 0, 2, 0, 2, 0, 2, 1, 0, 0, 0, 0, 0, 0,\n",
       "       0, 0, 0, 0, 0, 0, 0, 2, 1, 0, 0, 0, 2, 0, 0, 0, 0, 0, 0, 0, 0, 0,\n",
       "       0, 0, 0, 2, 0, 0, 0, 0, 1, 0, 0, 0, 0, 0, 0, 0, 0, 0, 2, 0, 0, 0,\n",
       "       0, 0, 2, 0, 0, 0, 2, 0, 0, 1, 0, 2, 0, 2, 0, 0, 0, 0, 0, 1, 1, 3,\n",
       "       0, 2, 3, 0, 0, 0, 0, 0, 0, 0, 2, 0, 0, 0, 0, 1, 0, 2, 0, 0, 0, 0,\n",
       "       2, 0, 0, 0, 1, 0, 0, 0, 0, 0, 0, 0, 2, 0, 0, 0, 0, 0, 0, 0, 0, 0,\n",
       "       0, 0, 2, 0, 0, 0, 1, 0, 0, 0], dtype=int64)"
      ]
     },
     "execution_count": 74,
     "metadata": {},
     "output_type": "execute_result"
    }
   ],
   "source": [
    "# Hierarchical clustering algorithm\n",
    "hierarchical = AgglomerativeClustering(n_clusters=5)\n",
    "hierarchical_labels = hierarchical.fit_predict((TF_IDF_df))\n",
    "Hierarchical_TFIDF_LABEL_NEW=map_label(hierarchical_labels,human_label)\n",
    "hierarchical_labels"
   ]
  },
  {
   "cell_type": "code",
   "execution_count": 75,
   "id": "8mNy1mpC__2B",
   "metadata": {
    "colab": {
     "base_uri": "https://localhost:8080/",
     "height": 564
    },
    "id": "8mNy1mpC__2B",
    "outputId": "e0c3f073-4c7e-47fa-e9e6-4ea54935f50d"
   },
   "outputs": [
    {
     "data": {
      "image/png": "[encoded data removed]",
      "text/plain": [
       "<Figure size 2160x1440 with 1 Axes>"
      ]
     },
     "metadata": {
      "needs_background": "light"
     },
     "output_type": "display_data"
    }
   ],
   "source": [
    "linked = linkage(dense, 'complete')  # You can choose different linkage methods (single, complete, average, etc.)\n",
    "\n",
    "# Create a dendrogram\n",
    "plt.figure(figsize=(30, 20))\n",
    "dendrogram(linked)\n",
    "plt.title('Hierarchical Clustering Dendrogram')\n",
    "plt.xlabel('Data points')\n",
    "plt.ylabel('Distance')\n",
    "plt.show()"
   ]
  },
  {
   "cell_type": "code",
   "execution_count": 76,
   "id": "pelthEydACkq",
   "metadata": {
    "colab": {
     "base_uri": "https://localhost:8080/"
    },
    "id": "pelthEydACkq",
    "outputId": "010f4b7b-ae95-484b-b85e-833966dae6fe"
   },
   "outputs": [
    {
     "name": "stdout",
     "output_type": "stream",
     "text": [
      "kappa score in Hierarchical TFIDF =  0.040000000000000036\n",
      "silhouette score in EM TFIDF =  0.07570204357345926\n"
     ]
    },
    {
     "name": "stderr",
     "output_type": "stream",
     "text": [
      "C:\\Users\\LENOVO\\anaconda3\\lib\\site-packages\\sklearn\\utils\\extmath.py:153: RuntimeWarning: invalid value encountered in matmul\n",
      "  ret = a @ b\n"
     ]
    }
   ],
   "source": [
    "#kappa\n",
    "kappa_score_Hierarchical_TFIDF =cohen_kappa_score(hierarchical_labels,Hierarchical_TFIDF_LABEL_NEW)\n",
    "print(\"kappa score in Hierarchical TFIDF = \", kappa_score_Hierarchical_TFIDF)\n",
    "\n",
    "#silhouette\n",
    "silhouette_score_Hierarchical_TFIDF = silhouette_score(TF_IDF_df, hierarchical_labels)\n",
    "print(\"silhouette score in EM TFIDF = \", silhouette_score_Hierarchical_TFIDF)"
   ]
  },
  {
   "cell_type": "markdown",
   "id": "2c6a94a5",
   "metadata": {},
   "source": [
    "# Error Analysis (Using adjusted Rand index)"
   ]
  },
  {
   "cell_type": "code",
   "execution_count": 77,
   "id": "29567444",
   "metadata": {},
   "outputs": [
    {
     "name": "stdout",
     "output_type": "stream",
     "text": [
      "Adjusted Rand index: 0.10215195192974924\n"
     ]
    }
   ],
   "source": [
    "from sklearn.metrics import adjusted_rand_score\n",
    "from sklearn.metrics import fowlkes_mallows_score\n",
    "\n",
    "# Calculate adjusted Rand index\n",
    "ari_score = adjusted_rand_score(human_label, hierarchical_labels)\n",
    "\n",
    "print(\"Adjusted Rand index:\", ari_score)"
   ]
  },
  {
   "cell_type": "markdown",
   "id": "47020c50",
   "metadata": {},
   "source": [
    "# Error Analysis (Using Fowlkes-Mallows index)"
   ]
  },
  {
   "cell_type": "code",
   "execution_count": 79,
   "id": "31330326",
   "metadata": {},
   "outputs": [
    {
     "name": "stdout",
     "output_type": "stream",
     "text": [
      "Fowlkes-Mallows index: 0.400255199254926\n"
     ]
    }
   ],
   "source": [
    "# Calculate Fowlkes-Mallows index\n",
    "fm_score = fowlkes_mallows_score(human_label, hierarchical_labels)\n",
    "\n",
    "print(\"Fowlkes-Mallows index:\", fm_score)"
   ]
  },
  {
   "cell_type": "markdown",
   "id": "X3BKMqNHw1OS",
   "metadata": {
    "id": "X3BKMqNHw1OS"
   },
   "source": [
    "# LDA"
   ]
  },
  {
   "cell_type": "code",
   "execution_count": 17,
   "id": "I72sj79JySWx",
   "metadata": {
    "id": "I72sj79JySWx"
   },
   "outputs": [],
   "source": [
    "from nltk.tokenize import RegexpTokenizer\n",
    "from nltk.stem import WordNetLemmatizer\n",
    "from gensim.models import LdaModel\n",
    "from gensim.corpora import Dictionary\n",
    "# Extract partitions from the DataFrame\n",
    "partitions = data['partitions'].tolist()\n",
    "lemmatizer = WordNetLemmatizer()\n",
    "# Tokenize and preprocess partitions\n",
    "docs = []\n",
    "tokenizer = RegexpTokenizer(r'\\w+')\n",
    "for partition in partitions:\n",
    "    partition = partition.lower()\n",
    "    tokens = tokenizer.tokenize(partition)\n",
    "    tokens = [token for token in tokens if not token.isnumeric()]\n",
    "    tokens = [token for token in tokens if len(token) > 1]\n",
    "    tokens = [lemmatizer.lemmatize(token) for token in tokens]\n",
    "    docs.append(tokens)\n",
    "\n",
    "# Create dictionary and filter extremes\n",
    "dictionary = Dictionary(docs)\n",
    "dictionary.filter_extremes(no_below=20, no_above=0.5)\n",
    "\n",
    "# Create corpus\n",
    "corpus = [dictionary.doc2bow(doc) for doc in docs]\n",
    "\n",
    "# Train LDA model\n",
    "num_topics = 10\n",
    "chunksize = 2000\n",
    "passes = 20\n",
    "iterations = 400\n",
    "eval_every = None\n",
    "\n",
    "temp = dictionary[0]  # This is only to \"load\" the dictionary.\n",
    "id2word = dictionary.id2token\n",
    "\n",
    "model = LdaModel(\n",
    "    corpus=corpus,\n",
    "    id2word=id2word,\n",
    "    chunksize=chunksize,\n",
    "    alpha='auto',\n",
    "    eta='auto',\n",
    "    iterations=iterations,\n",
    "    num_topics=num_topics,\n",
    "    passes=passes,\n",
    "    eval_every=eval_every\n",
    ")"
   ]
  },
  {
   "cell_type": "code",
   "execution_count": 18,
   "id": "LnmyXPKf5jSR",
   "metadata": {
    "colab": {
     "base_uri": "https://localhost:8080/"
    },
    "id": "LnmyXPKf5jSR",
    "outputId": "0f146831-1112-4e28-fcae-4667a99acb6c"
   },
   "outputs": [
    {
     "name": "stdout",
     "output_type": "stream",
     "text": [
      "Average topic coherence: -1.2462.\n",
      "[([(0.07367332, 'work'),\n",
      "   (0.058967408, 'project'),\n",
      "   (0.02532278, 'electronic'),\n",
      "   (0.022408325, 'term'),\n",
      "   (0.018755153, 'agreement'),\n",
      "   (0.0170118, 'copyright'),\n",
      "   (0.015196022, 'gutenberg'),\n",
      "   (0.014991198, 'state'),\n",
      "   (0.014984161, 'may'),\n",
      "   (0.014153759, 'license'),\n",
      "   (0.012613199, 'copy'),\n",
      "   (0.012514515, 'paragraph'),\n",
      "   (0.011961628, 'united'),\n",
      "   (0.010320951, 'trademark'),\n",
      "   (0.009889303, 'use'),\n",
      "   (0.009485344, 'agree'),\n",
      "   (0.009269067, 'refund'),\n",
      "   (0.008858264, 'full'),\n",
      "   (0.008120153, 'law'),\n",
      "   (0.008117262, 'without')],\n",
      "  -0.5844046629559337),\n",
      " ([(0.02182905, 'dex'),\n",
      "   (0.01788076, 'brand'),\n",
      "   (0.014580116, 'rogan'),\n",
      "   (0.014479566, 'tube'),\n",
      "   (0.011820368, 'rogans'),\n",
      "   (0.009505102, 'greca'),\n",
      "   (0.009171241, 'metal'),\n",
      "   (0.008566508, 'wall'),\n",
      "   (0.008161983, 'leader'),\n",
      "   (0.008039723, 'head'),\n",
      "   (0.007797556, 'began'),\n",
      "   (0.007534558, 'thing'),\n",
      "   (0.0075293486, 'eye'),\n",
      "   (0.00703351, 'like'),\n",
      "   (0.006885016, 'foot'),\n",
      "   (0.006687695, 'toward'),\n",
      "   (0.006574412, 'hand'),\n",
      "   (0.006566701, 'long'),\n",
      "   (0.006560591, 'great'),\n",
      "   (0.00640284, 'away')],\n",
      "  -0.8960122389789817),\n",
      " ([(0.077368565, 'project'),\n",
      "   (0.035011474, 'foundation'),\n",
      "   (0.02891116, 'volunteer'),\n",
      "   (0.024329688, 'gutenberg'),\n",
      "   (0.024033172, 'work'),\n",
      "   (0.022196397, 'literary'),\n",
      "   (0.021823315, 'archive'),\n",
      "   (0.016975086, 'distribution'),\n",
      "   (0.016176522, 'section'),\n",
      "   (0.0156777, 'provide'),\n",
      "   (0.014537251, 'including'),\n",
      "   (0.013959114, 'information'),\n",
      "   (0.013681122, 'electronic'),\n",
      "   (0.013638138, 'law'),\n",
      "   (0.013029901, 'computer'),\n",
      "   (0.012689668, 'generation'),\n",
      "   (0.012435799, 'future'),\n",
      "   (0.012289911, 'agreement'),\n",
      "   (0.011753348, 'effort'),\n",
      "   (0.011673684, 'cause')],\n",
      "  -0.9251157796173979),\n",
      " ([(0.053116936, 'project'),\n",
      "   (0.03275188, 'work'),\n",
      "   (0.02501187, 'copy'),\n",
      "   (0.022843298, 'fee'),\n",
      "   (0.019098967, 'gutenberg'),\n",
      "   (0.018797958, 'foundation'),\n",
      "   (0.0172512, 'literary'),\n",
      "   (0.017090393, 'must'),\n",
      "   (0.017048012, 'archive'),\n",
      "   (0.015607498, 'royalty'),\n",
      "   (0.01520221, 'full'),\n",
      "   (0.013926335, 'provide'),\n",
      "   (0.013789783, 'paragraph'),\n",
      "   (0.012796402, 'access'),\n",
      "   (0.012771442, 'within'),\n",
      "   (0.012762245, 'day'),\n",
      "   (0.01249581, 'user'),\n",
      "   (0.011337238, 'paid'),\n",
      "   (0.009898211, 'use'),\n",
      "   (0.009478883, 'payment')],\n",
      "  -0.9407726104389948),\n",
      " ([(0.031868897, 'tractor'),\n",
      "   (0.029699652, 'zaino'),\n",
      "   (0.029467722, 'get'),\n",
      "   (0.02137176, 'back'),\n",
      "   (0.018951843, 'hargedon'),\n",
      "   (0.017154371, 'could'),\n",
      "   (0.015655171, 'flow'),\n",
      "   (0.013261193, 'hour'),\n",
      "   (0.013169982, 'would'),\n",
      "   (0.013013934, 'much'),\n",
      "   (0.012399644, 'see'),\n",
      "   (0.01207485, 'enough'),\n",
      "   (0.012053852, 'burkett'),\n",
      "   (0.011780676, 'think'),\n",
      "   (0.011259281, 'lava'),\n",
      "   (0.010673227, 'time'),\n",
      "   (0.010128011, 'work'),\n",
      "   (0.010102724, 'right'),\n",
      "   (0.009424649, 'way'),\n",
      "   (0.009303224, 'route')],\n",
      "  -1.091923979378209),\n",
      " ([(0.025659924, 'ricker'),\n",
      "   (0.016997699, 'like'),\n",
      "   (0.013713049, 'said'),\n",
      "   (0.009524306, 'ship'),\n",
      "   (0.009227308, 'eye'),\n",
      "   (0.00879119, 'door'),\n",
      "   (0.008059785, 'could'),\n",
      "   (0.0076619466, 'man'),\n",
      "   (0.0070844516, 'saw'),\n",
      "   (0.006964972, 'back'),\n",
      "   (0.0068728393, 'woman'),\n",
      "   (0.0067350473, 'martian'),\n",
      "   (0.006198921, 'get'),\n",
      "   (0.0059810914, 'hand'),\n",
      "   (0.0059067854, 'molly'),\n",
      "   (0.0052540647, 'trexel'),\n",
      "   (0.005140315, 'thought'),\n",
      "   (0.0048901946, 'face'),\n",
      "   (0.0046973773, 'another'),\n",
      "   (0.0046681315, 'vanger')],\n",
      "  -1.2194740104058686),\n",
      " ([(0.031340797, 'little'),\n",
      "   (0.023194738, 'said'),\n",
      "   (0.018858144, 'jane'),\n",
      "   (0.014832774, 'know'),\n",
      "   (0.012408222, 'pete'),\n",
      "   (0.012354564, 'boy'),\n",
      "   (0.011182774, 'eye'),\n",
      "   (0.009474947, 'girl'),\n",
      "   (0.008970444, 'giant'),\n",
      "   (0.008867585, 'ship'),\n",
      "   (0.008807481, 'face'),\n",
      "   (0.008794572, 'well'),\n",
      "   (0.008529734, 'small'),\n",
      "   (0.008381975, 'went'),\n",
      "   (0.008299485, 'see'),\n",
      "   (0.008105712, 'looked'),\n",
      "   (0.0079948325, 'thing'),\n",
      "   (0.007807014, 'took'),\n",
      "   (0.0074879117, 'tell'),\n",
      "   (0.0071546957, 'time')],\n",
      "  -1.3741897635869973),\n",
      " ([(0.027947744, 'upon'),\n",
      "   (0.016128005, 'would'),\n",
      "   (0.014900805, 'could'),\n",
      "   (0.011822728, 'gor'),\n",
      "   (0.011715889, 'great'),\n",
      "   (0.010811358, 'hajus'),\n",
      "   (0.010621922, 'xaxa'),\n",
      "   (0.010360298, 'dar'),\n",
      "   (0.010048882, 'tarus'),\n",
      "   (0.009941479, 'tur'),\n",
      "   (0.008462044, 'might'),\n",
      "   (0.008204251, 'body'),\n",
      "   (0.007771914, 'time'),\n",
      "   (0.0071736006, 'ship'),\n",
      "   (0.006998555, 'ra'),\n",
      "   (0.0068442523, 'old'),\n",
      "   (0.0067547634, 'thavas'),\n",
      "   (0.006672065, 'first'),\n",
      "   (0.00638836, 'shall'),\n",
      "   (0.0061644423, 'eye')],\n",
      "  -1.4089783009571935),\n",
      " ([(0.014658094, 'would'),\n",
      "   (0.013271481, 'ship'),\n",
      "   (0.010381865, 'space'),\n",
      "   (0.0102238, 'might'),\n",
      "   (0.009111937, 'still'),\n",
      "   (0.008682604, 'even'),\n",
      "   (0.0085533345, 'made'),\n",
      "   (0.008501429, 'planet'),\n",
      "   (0.0084841, 'far'),\n",
      "   (0.008016605, 'back'),\n",
      "   (0.0077253478, 'could'),\n",
      "   (0.0072223092, 'set'),\n",
      "   (0.007085, 'red'),\n",
      "   (0.0067461594, 'hundred'),\n",
      "   (0.0066669043, 'long'),\n",
      "   (0.006572947, 'surface'),\n",
      "   (0.0063784756, 'hour'),\n",
      "   (0.006236188, 'like'),\n",
      "   (0.006222815, 'around'),\n",
      "   (0.0061125425, 'sun')],\n",
      "  -1.4111373655391808),\n",
      " ([(0.033660155, 'donation'),\n",
      "   (0.027985029, 'gutenberg'),\n",
      "   (0.02781899, 'project'),\n",
      "   (0.025375044, 'foundation'),\n",
      "   (0.020054704, 'archive'),\n",
      "   (0.020000141, 'literary'),\n",
      "   (0.018624173, 'state'),\n",
      "   (0.01727757, 'tax'),\n",
      "   (0.016424535, 'contact'),\n",
      "   (0.016135657, 'law'),\n",
      "   (0.015954597, 'information'),\n",
      "   (0.014600579, 'pglaf'),\n",
      "   (0.01347126, 'org'),\n",
      "   (0.012001675, 'section'),\n",
      "   (0.011867591, 'without'),\n",
      "   (0.010706555, 'venus'),\n",
      "   (0.010299827, 'office'),\n",
      "   (0.009994153, 'number'),\n",
      "   (0.009582176, 'page'),\n",
      "   (0.009381242, 'status')],\n",
      "  -2.6102387489913976)]\n"
     ]
    }
   ],
   "source": [
    "top_topics = model.top_topics(corpus) #, num_words=20)\n",
    "\n",
    "# Average topic coherence is the sum of topic coherences of all topics, divided by the number of topics.\n",
    "avg_topic_coherence = sum([t[1] for t in top_topics]) / num_topics\n",
    "print('Average topic coherence: %.4f.' % avg_topic_coherence)\n",
    "\n",
    "from pprint import pprint\n",
    "pprint(top_topics)"
   ]
  },
  {
   "cell_type": "code",
   "execution_count": 22,
   "id": "vOzE3lVOO063",
   "metadata": {
    "id": "vOzE3lVOO063"
   },
   "outputs": [
    {
     "name": "stdout",
     "output_type": "stream",
     "text": [
      "[[0.99748021 0.         0.         ... 0.         0.         0.        ]\n",
      " [0.         0.51854092 0.         ... 0.         0.         0.        ]\n",
      " [0.         0.         0.         ... 0.90491652 0.         0.        ]\n",
      " ...\n",
      " [0.         0.         0.         ... 0.         0.         0.99763888]\n",
      " [0.         0.99754405 0.         ... 0.         0.         0.        ]\n",
      " [0.         0.99743474 0.         ... 0.         0.         0.        ]]\n"
     ]
    }
   ],
   "source": [
    "# Get the document-topic distribution\n",
    "doc_topic_distributions = [model.get_document_topics(doc) for doc in corpus]\n",
    "\n",
    "# Convert the document-topic distributions to document vectors\n",
    "doc_vectors = np.zeros((len(docs), model.num_topics))\n",
    "for i, doc_dist in enumerate(doc_topic_distributions):\n",
    "    for topic_id, topic_prob in doc_dist:\n",
    "        doc_vectors[i, topic_id] = topic_prob\n",
    "\n",
    "# Print the document vectors\n",
    "print(doc_vectors)"
   ]
  },
  {
   "cell_type": "markdown",
   "id": "21dc5219",
   "metadata": {},
   "source": [
    "# K_Means"
   ]
  },
  {
   "cell_type": "code",
   "execution_count": 23,
   "id": "t8ZaYH4dCVN-",
   "metadata": {
    "colab": {
     "base_uri": "https://localhost:8080/"
    },
    "id": "t8ZaYH4dCVN-",
    "outputId": "1e541e10-d44b-4ae1-fe01-a784fd05127f"
   },
   "outputs": [],
   "source": [
    "#K_Means LDA\n",
    "KM_LDA=KMeans(n_clusters=5, random_state=42)\n",
    "KM_LDA.fit(doc_vectors)\n",
    "KM_LDA_LABEL=KM_LDA.predict(doc_vectors)\n",
    "KM_LDA_LABEL_NEW=map_label(KM_LDA_LABEL,human_label)"
   ]
  },
  {
   "cell_type": "code",
   "execution_count": 24,
   "id": "tuU5EKL7CqMj",
   "metadata": {
    "colab": {
     "base_uri": "https://localhost:8080/"
    },
    "id": "tuU5EKL7CqMj",
    "outputId": "8d628354-35d3-4b42-bb93-58de657ac96d"
   },
   "outputs": [
    {
     "name": "stdout",
     "output_type": "stream",
     "text": [
      "kappa score in kmeans LDA =  0.615\n",
      "silhouette score in kmeans LDA =  0.5143647351707463\n"
     ]
    }
   ],
   "source": [
    "#kappa\n",
    "kappa_score_kmeans_LDA=cohen_kappa_score(KM_LDA_LABEL,KM_LDA_LABEL_NEW)\n",
    "print(\"kappa score in kmeans LDA = \", kappa_score_kmeans_LDA)\n",
    "\n",
    "#silhouette\n",
    "silhouette_score_kmeans_LDA = silhouette_score(doc_vectors, KM_LDA_LABEL)\n",
    "print(\"silhouette score in kmeans LDA = \", silhouette_score_kmeans_LDA)"
   ]
  },
  {
   "cell_type": "markdown",
   "id": "def40dde",
   "metadata": {},
   "source": [
    "# Error Analysis (Using Elbow Method)"
   ]
  },
  {
   "cell_type": "code",
   "execution_count": 28,
   "id": "0d52c136",
   "metadata": {},
   "outputs": [
    {
     "name": "stderr",
     "output_type": "stream",
     "text": [
      "C:\\Users\\LENOVO\\anaconda3\\lib\\site-packages\\sklearn\\cluster\\_kmeans.py:1036: UserWarning: KMeans is known to have a memory leak on Windows with MKL, when there are less chunks than available threads. You can avoid it by setting the environment variable OMP_NUM_THREADS=4.\n",
      "  warnings.warn(\n"
     ]
    }
   ],
   "source": [
    "# Elbow Method\n",
    "k_values = range(1, 11)\n",
    "distortion_values_LDA = []\n",
    "inertia_values_LDA = []\n",
    "\n",
    "for k in k_values:\n",
    "    KM_LDA = KMeans(n_clusters=k, random_state=42)\n",
    "    KM_LDA.fit(doc_vectors)\n",
    "    distortion_values_LDA.append(KM_LDA.inertia_)\n",
    "    inertia_values_LDA.append(KM_LDA.inertia_)"
   ]
  },
  {
   "cell_type": "markdown",
   "id": "fdf4a69f",
   "metadata": {},
   "source": [
    "# Visualizing the Results (Using the different values of Distortion)"
   ]
  },
  {
   "cell_type": "code",
   "execution_count": 30,
   "id": "29448e9c",
   "metadata": {},
   "outputs": [
    {
     "name": "stdout",
     "output_type": "stream",
     "text": [
      "    k  Distortion\n",
      "0   1  602.414710\n",
      "1   2  478.513181\n",
      "2   3  371.949423\n",
      "3   4  282.835181\n",
      "4   5  212.929372\n",
      "5   6  164.128136\n",
      "6   7  129.086132\n",
      "7   8   98.862031\n",
      "8   9   75.248711\n",
      "9  10   58.345618\n"
     ]
    },
    {
     "data": {
      "image/png": "[encoded data removed]",
      "text/plain": [
       "<Figure size 432x288 with 1 Axes>"
      ]
     },
     "metadata": {
      "needs_background": "light"
     },
     "output_type": "display_data"
    }
   ],
   "source": [
    "# Tabulate the results\n",
    "results_df = pd.DataFrame({'k': k_values, 'Distortion': distortion_values_LDA})\n",
    "print(results_df)\n",
    "\n",
    "# Plotting the results\n",
    "plt.plot(k_values, distortion_values_LDA, marker='o')\n",
    "plt.xlabel('Number of Clusters (k)')\n",
    "plt.ylabel('Distortion')\n",
    "plt.title('Elbow Method - Distortion')\n",
    "plt.show()"
   ]
  },
  {
   "cell_type": "markdown",
   "id": "19f051e2",
   "metadata": {},
   "source": [
    "# Visualizing the Results (Using different values of Inertia)"
   ]
  },
  {
   "cell_type": "code",
   "execution_count": 31,
   "id": "25ef3af5",
   "metadata": {},
   "outputs": [
    {
     "name": "stdout",
     "output_type": "stream",
     "text": [
      "    k     Inertia\n",
      "0   1  602.414710\n",
      "1   2  478.513181\n",
      "2   3  371.949423\n",
      "3   4  282.835181\n",
      "4   5  212.929372\n",
      "5   6  164.128136\n",
      "6   7  129.086132\n",
      "7   8   98.862031\n",
      "8   9   75.248711\n",
      "9  10   58.345618\n"
     ]
    },
    {
     "data": {
      "image/png": "[encoded data removed]",
      "text/plain": [
       "<Figure size 432x288 with 1 Axes>"
      ]
     },
     "metadata": {
      "needs_background": "light"
     },
     "output_type": "display_data"
    }
   ],
   "source": [
    "# Tabulate the results\n",
    "results_df = pd.DataFrame({'k': k_values, 'Inertia': inertia_values_LDA})\n",
    "print(results_df)\n",
    "\n",
    "# Plotting the results\n",
    "plt.plot(k_values, inertia_values_LDA, marker='o')\n",
    "plt.xlabel('Number of Clusters (k)')\n",
    "plt.ylabel('Inertia')\n",
    "plt.title('Elbow Method - Inertia')\n",
    "plt.show()"
   ]
  },
  {
   "cell_type": "markdown",
   "id": "0be0a600",
   "metadata": {},
   "source": [
    "# EM clustering algorithm"
   ]
  },
  {
   "cell_type": "code",
   "execution_count": 32,
   "id": "ts2xh3iAVja4",
   "metadata": {
    "colab": {
     "base_uri": "https://localhost:8080/"
    },
    "id": "ts2xh3iAVja4",
    "outputId": "39ead1c3-6382-4949-d29d-6f0e0e98cdf3"
   },
   "outputs": [
    {
     "data": {
      "text/plain": [
       "array([0, 1, 3, 1, 3, 1, 0, 1, 3, 3, 0, 1, 0, 0, 1, 1, 1, 1, 3, 0, 1, 1,\n",
       "       1, 3, 1, 1, 0, 1, 1, 1, 1, 1, 1, 1, 3, 1, 1, 1, 1, 3, 1, 3, 1, 1,\n",
       "       0, 1, 4, 0, 0, 1, 0, 3, 3, 1, 1, 3, 1, 1, 1, 1, 1, 1, 1, 1, 1, 1,\n",
       "       1, 1, 3, 1, 1, 1, 3, 3, 1, 3, 3, 1, 1, 3, 1, 0, 1, 1, 1, 1, 3, 1,\n",
       "       3, 1, 1, 1, 1, 3, 1, 3, 3, 1, 1, 1, 3, 1, 0, 3, 1, 1, 1, 1, 0, 0,\n",
       "       1, 3, 1, 1, 1, 1, 0, 4, 3, 1, 1, 1, 1, 1, 1, 1, 1, 3, 1, 0, 0, 1,\n",
       "       1, 1, 1, 0, 1, 0, 1, 1, 1, 1, 3, 1, 1, 1, 1, 3, 1, 1, 0, 3, 1, 3,\n",
       "       3, 1, 3, 1, 3, 1, 1, 1, 1, 1, 1, 1, 1, 1, 1, 1, 1, 1, 1, 1, 1, 3,\n",
       "       3, 1, 1, 1, 3, 1, 1, 3, 3, 1, 1, 3, 1, 0, 3, 3, 3, 1, 1, 1, 1, 1,\n",
       "       1, 1, 4, 3, 0, 0, 0, 0, 0, 3, 0, 0, 0, 3, 0, 4, 3, 3, 0, 0, 0, 0,\n",
       "       3, 0, 0, 0, 0, 3, 4, 3, 3, 3, 4, 0, 0, 0, 0, 0, 3, 0, 0, 0, 3, 0,\n",
       "       3, 0, 0, 3, 0, 0, 0, 0, 3, 3, 3, 4, 3, 3, 0, 3, 4, 3, 0, 4, 3, 4,\n",
       "       0, 0, 0, 3, 0, 0, 4, 0, 0, 4, 0, 4, 0, 3, 4, 0, 3, 0, 3, 0, 0, 3,\n",
       "       4, 0, 0, 0, 3, 0, 3, 0, 3, 0, 0, 4, 3, 4, 3, 0, 3, 3, 3, 0, 0, 3,\n",
       "       3, 3, 4, 4, 0, 3, 4, 3, 0, 3, 4, 3, 4, 0, 3, 3, 3, 3, 0, 4, 3, 0,\n",
       "       0, 3, 3, 0, 3, 0, 4, 0, 3, 4, 3, 3, 0, 0, 0, 3, 0, 4, 0, 3, 0, 3,\n",
       "       0, 4, 0, 0, 3, 3, 0, 3, 0, 0, 0, 3, 0, 0, 3, 0, 0, 0, 0, 0, 3, 0,\n",
       "       0, 0, 0, 4, 0, 0, 0, 3, 3, 3, 0, 4, 0, 0, 4, 3, 3, 3, 4, 3, 0, 0,\n",
       "       0, 3, 3, 0, 2, 2, 2, 2, 2, 2, 2, 2, 2, 2, 2, 2, 2, 2, 2, 2, 2, 2,\n",
       "       2, 2, 2, 3, 2, 2, 2, 2, 2, 2, 2, 2, 2, 2, 2, 2, 4, 2, 2, 2, 2, 2,\n",
       "       2, 2, 2, 2, 2, 2, 2, 2, 2, 2, 2, 2, 2, 2, 2, 2, 2, 2, 2, 2, 2, 0,\n",
       "       2, 2, 3, 2, 2, 2, 2, 2, 2, 2, 4, 4, 2, 2, 2, 2, 2, 2, 2, 2, 2, 2,\n",
       "       2, 2, 2, 2, 2, 3, 2, 2, 2, 2, 2, 2, 2, 3, 2, 2, 2, 2, 2, 2, 2, 2,\n",
       "       2, 2, 2, 2, 2, 2, 2, 2, 2, 2, 2, 2, 2, 2, 2, 2, 2, 2, 2, 2, 2, 2,\n",
       "       2, 2, 2, 2, 2, 2, 2, 2, 2, 2, 2, 2, 2, 2, 2, 2, 2, 3, 2, 2, 2, 2,\n",
       "       2, 2, 2, 2, 2, 2, 2, 2, 2, 2, 2, 2, 2, 2, 2, 2, 2, 2, 2, 2, 2, 2,\n",
       "       2, 2, 2, 2, 2, 2, 3, 2, 0, 2, 2, 3, 2, 2, 2, 2, 2, 2, 2, 2, 2, 2,\n",
       "       0, 2, 2, 2, 2, 2, 4, 4, 1, 4, 4, 4, 4, 4, 4, 4, 4, 3, 4, 3, 4, 4,\n",
       "       4, 4, 4, 4, 0, 3, 4, 4, 4, 3, 4, 3, 4, 4, 4, 4, 3, 4, 4, 4, 3, 4,\n",
       "       4, 1, 2, 1, 4, 4, 4, 4, 4, 4, 4, 4, 4, 4, 4, 4, 0, 4, 2, 4, 4, 4,\n",
       "       4, 4, 4, 4, 2, 4, 3, 3, 4, 4, 4, 4, 4, 4, 1, 4, 4, 0, 1, 4, 4, 4,\n",
       "       0, 4, 1, 4, 4, 4, 2, 4, 4, 4, 3, 4, 1, 4, 4, 4, 4, 4, 4, 4, 3, 4,\n",
       "       4, 4, 4, 4, 4, 1, 4, 0, 1, 4, 4, 3, 4, 4, 4, 3, 4, 4, 0, 4, 4, 3,\n",
       "       0, 4, 1, 4, 4, 4, 4, 3, 4, 4, 4, 4, 4, 4, 4, 4, 4, 4, 4, 4, 4, 4,\n",
       "       1, 4, 4, 4, 4, 3, 4, 4, 0, 4, 1, 4, 0, 1, 4, 4, 4, 4, 4, 4, 3, 4,\n",
       "       1, 4, 4, 0, 4, 3, 4, 1, 4, 4, 4, 4, 2, 1, 4, 4, 4, 4, 4, 3, 4, 2,\n",
       "       4, 4, 2, 4, 4, 4, 4, 4, 1, 2, 2, 1, 1, 1, 0, 1, 1, 1, 1, 1, 1, 1,\n",
       "       1, 1, 1, 1, 1, 3, 3, 2, 1, 1, 1, 0, 1, 2, 1, 1, 1, 1, 1, 3, 3, 1,\n",
       "       1, 1, 1, 1, 1, 1, 1, 3, 2, 2, 1, 1, 1, 1, 1, 1, 1, 3, 1, 1, 1, 1,\n",
       "       1, 1, 1, 2, 1, 3, 1, 1, 1, 1, 3, 3, 3, 1, 2, 1, 1, 3, 3, 1, 2, 1,\n",
       "       1, 1, 1, 1, 1, 1, 1, 1, 3, 0, 3, 1, 1, 1, 1, 3, 1, 3, 1, 1, 0, 1,\n",
       "       1, 1, 1, 3, 1, 2, 2, 3, 1, 1, 1, 1, 2, 1, 1, 1, 1, 1, 1, 1, 1, 1,\n",
       "       1, 3, 0, 1, 0, 2, 0, 1, 1, 1, 1, 1, 1, 1, 2, 1, 1, 1, 2, 1, 1, 1,\n",
       "       1, 1, 1, 2, 1, 3, 0, 2, 3, 3, 1, 3, 2, 1, 1, 1, 1, 1, 3, 3, 3, 1,\n",
       "       1, 1, 2, 3, 1, 1, 3, 1, 1, 1, 1, 2, 3, 1, 1, 1, 1, 1, 3, 1, 1, 1,\n",
       "       1, 1, 1, 1, 2, 1, 1, 3, 1, 1], dtype=int64)"
      ]
     },
     "execution_count": 32,
     "metadata": {},
     "output_type": "execute_result"
    }
   ],
   "source": [
    "# EM clustering algorithm\n",
    "em = GaussianMixture(n_components=5, random_state=42)\n",
    "em.fit(doc_vectors)\n",
    "EM_LDA_LABEL = em.predict(doc_vectors)\n",
    "EM_LDA_LABEL_NEW=map_label(EM_LDA_LABEL,human_label)\n",
    "EM_LDA_LABEL"
   ]
  },
  {
   "cell_type": "code",
   "execution_count": 33,
   "id": "dkCpxrXAVy6O",
   "metadata": {
    "colab": {
     "base_uri": "https://localhost:8080/"
    },
    "id": "dkCpxrXAVy6O",
    "outputId": "3184033b-2714-47d8-b8d1-ee5275e58268"
   },
   "outputs": [
    {
     "name": "stdout",
     "output_type": "stream",
     "text": [
      "kappa score in EM LDA =  0.49750000000000005\n",
      "silhouette score in EM LDA =  0.39916032385766476\n"
     ]
    }
   ],
   "source": [
    "#kappa\n",
    "kappa_score_EM_LDA =cohen_kappa_score(EM_LDA_LABEL,EM_LDA_LABEL_NEW)\n",
    "print(\"kappa score in EM LDA = \", kappa_score_EM_LDA)\n",
    "\n",
    "#silhouette\n",
    "silhouette_score_EM_LDA = silhouette_score(doc_vectors, EM_LDA_LABEL)\n",
    "print(\"silhouette score in EM LDA = \", silhouette_score_EM_LDA)"
   ]
  },
  {
   "cell_type": "markdown",
   "id": "292bf968",
   "metadata": {},
   "source": [
    "# Akaike information criterion (AIC) or the Bayesian information criterion (BIC)"
   ]
  },
  {
   "cell_type": "code",
   "execution_count": 35,
   "id": "10c88bed",
   "metadata": {},
   "outputs": [
    {
     "name": "stderr",
     "output_type": "stream",
     "text": [
      "C:\\Users\\LENOVO\\anaconda3\\lib\\site-packages\\sklearn\\cluster\\_kmeans.py:1036: UserWarning: KMeans is known to have a memory leak on Windows with MKL, when there are less chunks than available threads. You can avoid it by setting the environment variable OMP_NUM_THREADS=4.\n",
      "  warnings.warn(\n"
     ]
    },
    {
     "data": {
      "image/png": "[encoded data removed]",
      "text/plain": [
       "<Figure size 432x288 with 1 Axes>"
      ]
     },
     "metadata": {
      "needs_background": "light"
     },
     "output_type": "display_data"
    }
   ],
   "source": [
    "from sklearn.utils import shuffle\n",
    "from sklearn.decomposition import PCA\n",
    "\n",
    "n_components = np.arange(1, 11)\n",
    "models = [GaussianMixture(n, random_state=0) for n in n_components]\n",
    "bic_scores = []\n",
    "aic_scores = []\n",
    "\n",
    "# Subsample the data\n",
    "subsample_size = 1000\n",
    "doc_vectors_subsample = shuffle(doc_vectors, random_state=0)[:subsample_size]\n",
    "\n",
    "# Perform PCA for dimensionality reduction\n",
    "pca = PCA(n_components=min(subsample_size, doc_vectors.shape[1]))  # Adjust the number of components as needed\n",
    "doc_vectors_pca = pca.fit_transform(doc_vectors_subsample)\n",
    "\n",
    "for model in models:\n",
    "    # Fit the model on the PCA-transformed data\n",
    "    model.fit(doc_vectors_pca)\n",
    "\n",
    "    # Calculate AIC and BIC scores\n",
    "    bic_scores.append(model.bic(doc_vectors_pca))\n",
    "    aic_scores.append(model.aic(doc_vectors_pca))\n",
    "\n",
    "# Plotting the results\n",
    "plt.plot(n_components, bic_scores, label='BIC')\n",
    "plt.plot(n_components, aic_scores, label='AIC')\n",
    "plt.legend(loc='best')\n",
    "plt.xlabel('n_components')\n",
    "plt.title('Akaike information criterion (AIC) or the Bayesian information criterion (BIC)')\n",
    "\n",
    "plt.show()"
   ]
  },
  {
   "cell_type": "markdown",
   "id": "34709514",
   "metadata": {},
   "source": [
    "# Hierarchical clustering algorithm"
   ]
  },
  {
   "cell_type": "code",
   "execution_count": 36,
   "id": "PaqZBaOqn85A",
   "metadata": {
    "colab": {
     "base_uri": "https://localhost:8080/"
    },
    "id": "PaqZBaOqn85A",
    "outputId": "c2ac6c87-1b6c-4066-dc88-f59aa3326a4e"
   },
   "outputs": [
    {
     "data": {
      "text/plain": [
       "array([0, 0, 4, 0, 0, 0, 0, 0, 0, 4, 0, 0, 0, 0, 0, 0, 0, 0, 4, 0, 0, 0,\n",
       "       0, 4, 0, 0, 0, 0, 0, 0, 0, 0, 0, 0, 0, 0, 0, 0, 0, 4, 0, 4, 0, 0,\n",
       "       0, 0, 0, 4, 0, 0, 4, 4, 4, 0, 0, 4, 0, 0, 0, 0, 0, 0, 0, 0, 0, 0,\n",
       "       0, 0, 4, 0, 0, 0, 4, 4, 0, 4, 4, 0, 0, 4, 0, 0, 0, 0, 0, 0, 4, 0,\n",
       "       0, 0, 0, 0, 0, 4, 0, 4, 4, 0, 0, 0, 4, 0, 0, 4, 0, 0, 0, 0, 0, 0,\n",
       "       0, 4, 0, 0, 0, 0, 0, 0, 4, 0, 0, 0, 0, 0, 0, 0, 0, 0, 0, 0, 0, 0,\n",
       "       0, 0, 0, 0, 0, 0, 0, 0, 0, 0, 4, 0, 0, 0, 0, 4, 0, 0, 0, 4, 0, 4,\n",
       "       4, 0, 4, 0, 4, 0, 0, 0, 0, 0, 0, 0, 0, 0, 0, 0, 0, 0, 0, 0, 0, 4,\n",
       "       0, 0, 0, 0, 4, 0, 0, 4, 4, 0, 0, 4, 0, 0, 4, 4, 4, 0, 0, 0, 0, 0,\n",
       "       0, 0, 0, 4, 0, 0, 0, 0, 0, 4, 0, 0, 0, 4, 0, 0, 4, 4, 0, 0, 0, 0,\n",
       "       4, 0, 0, 0, 0, 0, 0, 4, 4, 4, 3, 0, 0, 0, 0, 4, 0, 0, 0, 0, 4, 0,\n",
       "       4, 0, 0, 4, 0, 0, 0, 0, 4, 4, 4, 0, 0, 4, 0, 4, 3, 4, 0, 0, 4, 3,\n",
       "       0, 0, 3, 4, 0, 0, 3, 0, 0, 0, 0, 3, 0, 4, 3, 0, 4, 0, 4, 0, 0, 4,\n",
       "       0, 0, 0, 0, 4, 0, 4, 0, 4, 0, 0, 0, 4, 3, 4, 0, 0, 4, 4, 0, 0, 0,\n",
       "       4, 4, 0, 3, 0, 0, 0, 0, 0, 0, 3, 4, 0, 0, 4, 4, 4, 4, 0, 3, 4, 0,\n",
       "       0, 4, 4, 0, 4, 0, 0, 0, 4, 0, 4, 4, 0, 0, 0, 4, 0, 3, 0, 4, 0, 0,\n",
       "       0, 0, 0, 0, 4, 4, 0, 4, 4, 0, 0, 4, 0, 0, 4, 0, 0, 4, 0, 0, 4, 0,\n",
       "       0, 0, 0, 3, 0, 0, 0, 4, 4, 4, 0, 0, 0, 0, 0, 4, 4, 4, 0, 0, 0, 0,\n",
       "       0, 4, 4, 0, 1, 1, 1, 1, 1, 1, 1, 1, 1, 1, 1, 1, 1, 1, 1, 1, 1, 1,\n",
       "       1, 1, 1, 4, 1, 1, 1, 1, 1, 1, 1, 1, 1, 1, 1, 1, 0, 1, 1, 1, 1, 1,\n",
       "       1, 1, 1, 1, 1, 1, 1, 1, 1, 1, 1, 1, 1, 1, 1, 1, 1, 1, 1, 1, 1, 0,\n",
       "       1, 1, 0, 1, 1, 1, 1, 1, 1, 1, 1, 0, 1, 1, 1, 1, 1, 1, 1, 1, 1, 1,\n",
       "       1, 1, 1, 1, 1, 4, 1, 1, 1, 1, 1, 1, 1, 4, 1, 1, 1, 1, 1, 1, 1, 1,\n",
       "       1, 1, 1, 1, 1, 1, 1, 1, 1, 1, 1, 1, 1, 1, 1, 1, 1, 1, 1, 1, 1, 1,\n",
       "       1, 1, 1, 1, 1, 1, 1, 1, 1, 1, 1, 1, 1, 1, 1, 1, 1, 0, 1, 1, 1, 1,\n",
       "       1, 1, 1, 1, 1, 1, 1, 1, 1, 1, 1, 1, 1, 1, 1, 1, 1, 1, 1, 1, 1, 1,\n",
       "       1, 1, 1, 1, 1, 1, 0, 1, 4, 1, 1, 4, 1, 1, 1, 1, 1, 1, 1, 1, 1, 1,\n",
       "       1, 1, 1, 1, 1, 1, 0, 3, 0, 3, 3, 3, 3, 3, 0, 0, 3, 4, 3, 4, 3, 3,\n",
       "       0, 3, 3, 3, 3, 4, 3, 3, 3, 4, 0, 4, 3, 0, 3, 3, 4, 3, 3, 0, 4, 3,\n",
       "       3, 0, 3, 0, 3, 3, 3, 3, 3, 3, 3, 3, 3, 3, 3, 0, 0, 3, 3, 3, 3, 3,\n",
       "       3, 3, 3, 3, 3, 3, 0, 4, 3, 3, 3, 3, 0, 3, 0, 3, 3, 4, 0, 3, 3, 3,\n",
       "       0, 3, 0, 3, 3, 3, 3, 3, 3, 3, 4, 3, 0, 3, 3, 3, 3, 3, 3, 3, 4, 3,\n",
       "       3, 0, 3, 3, 3, 0, 3, 0, 0, 3, 3, 4, 3, 3, 3, 4, 3, 3, 0, 3, 3, 4,\n",
       "       4, 3, 0, 3, 3, 3, 3, 4, 3, 3, 3, 3, 0, 3, 3, 3, 3, 3, 0, 3, 3, 3,\n",
       "       0, 3, 3, 3, 3, 0, 3, 3, 0, 3, 0, 3, 0, 0, 3, 3, 3, 3, 3, 3, 4, 3,\n",
       "       0, 3, 3, 0, 3, 4, 3, 0, 3, 3, 3, 3, 3, 0, 3, 3, 3, 3, 3, 4, 0, 3,\n",
       "       3, 3, 3, 3, 3, 3, 3, 3, 2, 2, 2, 2, 2, 2, 0, 2, 2, 2, 2, 2, 2, 2,\n",
       "       2, 2, 2, 2, 2, 4, 0, 2, 2, 2, 2, 0, 2, 2, 2, 2, 2, 2, 2, 0, 4, 2,\n",
       "       2, 2, 2, 2, 2, 2, 2, 0, 2, 2, 2, 2, 2, 2, 2, 2, 2, 4, 2, 2, 2, 2,\n",
       "       2, 2, 2, 2, 2, 0, 2, 2, 2, 2, 4, 4, 4, 2, 2, 2, 2, 4, 4, 2, 2, 2,\n",
       "       2, 2, 2, 2, 2, 2, 2, 2, 4, 4, 4, 2, 2, 2, 2, 4, 2, 4, 2, 2, 0, 2,\n",
       "       2, 2, 2, 4, 2, 2, 2, 4, 2, 2, 2, 2, 2, 2, 2, 2, 2, 2, 2, 2, 2, 2,\n",
       "       2, 4, 0, 2, 0, 2, 0, 2, 2, 2, 2, 2, 2, 2, 2, 2, 2, 2, 2, 2, 2, 2,\n",
       "       2, 2, 2, 2, 2, 4, 0, 2, 0, 4, 2, 4, 2, 2, 2, 2, 2, 2, 4, 4, 4, 2,\n",
       "       2, 2, 2, 4, 2, 2, 4, 2, 2, 2, 2, 2, 0, 2, 2, 2, 2, 2, 4, 2, 2, 2,\n",
       "       2, 2, 2, 2, 2, 2, 2, 0, 2, 2], dtype=int64)"
      ]
     },
     "execution_count": 36,
     "metadata": {},
     "output_type": "execute_result"
    }
   ],
   "source": [
    "# Hierarchical clustering algorithm\n",
    "hierarchical = AgglomerativeClustering(n_clusters=5)\n",
    "hierarchical_labels = hierarchical.fit_predict((doc_vectors))\n",
    "Hierarchical_LDA_LABEL_NEW=map_label(hierarchical_labels,human_label)\n",
    "hierarchical_labels"
   ]
  },
  {
   "cell_type": "code",
   "execution_count": 37,
   "id": "NW4xQttaouTm",
   "metadata": {
    "colab": {
     "base_uri": "https://localhost:8080/"
    },
    "id": "NW4xQttaouTm",
    "outputId": "13feda4f-a8af-436c-83b1-58c3112db555"
   },
   "outputs": [
    {
     "name": "stdout",
     "output_type": "stream",
     "text": [
      "kappa score in Hierarchical LDA =  0.64625\n",
      "silhouette score in EM LDA =  0.5071429274111481\n"
     ]
    }
   ],
   "source": [
    "#kappa\n",
    "kappa_score_Hierarchical_LDA =cohen_kappa_score(hierarchical_labels,Hierarchical_LDA_LABEL_NEW)\n",
    "print(\"kappa score in Hierarchical LDA = \", kappa_score_Hierarchical_LDA)\n",
    "\n",
    "#silhouette\n",
    "silhouette_score_Hierarchical_LDA = silhouette_score(doc_vectors, hierarchical_labels)\n",
    "print(\"silhouette score in EM LDA = \", silhouette_score_Hierarchical_LDA)"
   ]
  },
  {
   "cell_type": "markdown",
   "id": "4b62dfde",
   "metadata": {},
   "source": [
    "# Error Analysis (Using adjusted Rand index)"
   ]
  },
  {
   "cell_type": "code",
   "execution_count": 38,
   "id": "d977b0b9",
   "metadata": {},
   "outputs": [
    {
     "name": "stdout",
     "output_type": "stream",
     "text": [
      "Adjusted Rand index: 0.5124380730649554\n"
     ]
    }
   ],
   "source": [
    "from sklearn.metrics import adjusted_rand_score\n",
    "from sklearn.metrics import fowlkes_mallows_score\n",
    "\n",
    "# Calculate adjusted Rand index\n",
    "ari_score = adjusted_rand_score(human_label, hierarchical_labels)\n",
    "\n",
    "print(\"Adjusted Rand index:\", ari_score)"
   ]
  },
  {
   "cell_type": "markdown",
   "id": "e035e174",
   "metadata": {},
   "source": [
    "# Error Analysis (Using Fowlkes-Mallows index)"
   ]
  },
  {
   "cell_type": "code",
   "execution_count": 39,
   "id": "950acc30",
   "metadata": {},
   "outputs": [
    {
     "name": "stdout",
     "output_type": "stream",
     "text": [
      "Fowlkes-Mallows index: 0.6165768009879496\n"
     ]
    }
   ],
   "source": [
    "# Calculate Fowlkes-Mallows index\n",
    "fm_score = fowlkes_mallows_score(human_label, hierarchical_labels)\n",
    "\n",
    "print(\"Fowlkes-Mallows index:\", fm_score)"
   ]
  },
  {
   "cell_type": "markdown",
   "id": "4WKFkC0_Y1py",
   "metadata": {
    "id": "4WKFkC0_Y1py"
   },
   "source": [
    "# Word Embedding"
   ]
  },
  {
   "cell_type": "code",
   "execution_count": 40,
   "id": "rqnRsPDdY0wq",
   "metadata": {
    "colab": {
     "base_uri": "https://localhost:8080/"
    },
    "id": "rqnRsPDdY0wq",
    "outputId": "564d1a95-9225-475d-d31e-a13a22930f39"
   },
   "outputs": [
    {
     "name": "stderr",
     "output_type": "stream",
     "text": [
      "C:\\Users\\LENOVO\\AppData\\Local\\Temp\\ipykernel_15344\\232240868.py:4: DeprecationWarning: Call to deprecated `docvecs` (The `docvecs` property has been renamed `dv`.).\n",
      "  document_vectors = [model.docvecs[str(i)] for i in range(len(tagged_documents))]\n"
     ]
    }
   ],
   "source": [
    "documents = data[\"partitions\"].tolist()\n",
    "tagged_documents = [TaggedDocument(words=doc.split(), tags=[str(i)]) for i, doc in enumerate(documents)]\n",
    "model = Doc2Vec(tagged_documents, vector_size=100, window=5, min_count=1, workers=4)\n",
    "document_vectors = [model.docvecs[str(i)] for i in range(len(tagged_documents))]"
   ]
  },
  {
   "cell_type": "markdown",
   "id": "1bdf7386",
   "metadata": {},
   "source": [
    "# K_Means"
   ]
  },
  {
   "cell_type": "code",
   "execution_count": 41,
   "id": "H0dOjR40Fplf",
   "metadata": {
    "colab": {
     "base_uri": "https://localhost:8080/"
    },
    "id": "H0dOjR40Fplf",
    "outputId": "a65b25eb-629f-4aeb-a25b-d1db4d74eb12"
   },
   "outputs": [],
   "source": [
    "#K_Means WORD EMbedding\n",
    "KM_WE=KMeans(n_clusters=5, random_state=42)\n",
    "KM_WE.fit(document_vectors)\n",
    "KM_WE_LABEL=KM_WE.predict(document_vectors)\n",
    "KM_WE_LABEL_NEW=map_label(KM_WE_LABEL,human_label)"
   ]
  },
  {
   "cell_type": "code",
   "execution_count": 42,
   "id": "bh0SIvpYFwcH",
   "metadata": {
    "colab": {
     "base_uri": "https://localhost:8080/"
    },
    "id": "bh0SIvpYFwcH",
    "outputId": "e3f09695-150b-4329-9c90-e36acadfc02d"
   },
   "outputs": [
    {
     "name": "stdout",
     "output_type": "stream",
     "text": [
      "kappa score in kmeans WE =  0.11499999999999999\n",
      "silhouette score in kmeans WE =  0.1975473\n"
     ]
    }
   ],
   "source": [
    "#kappa\n",
    "kappa_score_kmeans_WE=cohen_kappa_score(KM_WE_LABEL,KM_WE_LABEL_NEW)\n",
    "print(\"kappa score in kmeans WE = \", kappa_score_kmeans_WE)\n",
    "\n",
    "#silhouette\n",
    "silhouette_score_kmeans_WE = silhouette_score(document_vectors, KM_WE_LABEL)\n",
    "print(\"silhouette score in kmeans WE = \", silhouette_score_kmeans_WE)"
   ]
  },
  {
   "cell_type": "markdown",
   "id": "28731e29",
   "metadata": {},
   "source": [
    "# Error Analysis (Using Elbow Method)"
   ]
  },
  {
   "cell_type": "code",
   "execution_count": 44,
   "id": "e23b3f4f",
   "metadata": {},
   "outputs": [
    {
     "name": "stderr",
     "output_type": "stream",
     "text": [
      "C:\\Users\\LENOVO\\anaconda3\\lib\\site-packages\\sklearn\\cluster\\_kmeans.py:1036: UserWarning: KMeans is known to have a memory leak on Windows with MKL, when there are less chunks than available threads. You can avoid it by setting the environment variable OMP_NUM_THREADS=4.\n",
      "  warnings.warn(\n"
     ]
    }
   ],
   "source": [
    "k_values = range(1, 11)\n",
    "distortion_values_WE = []\n",
    "inertia_values_WE = []\n",
    "\n",
    "for k in k_values:\n",
    "    KM_WE = KMeans(n_clusters=k, random_state=42)\n",
    "    KM_WE.fit(document_vectors)\n",
    "    distortion_values_WE.append(KM_WE.inertia_)\n",
    "    inertia_values_WE.append(KM_WE.inertia_)"
   ]
  },
  {
   "cell_type": "markdown",
   "id": "042d280e",
   "metadata": {},
   "source": [
    "# Visualizing the Results (Using the different values of Distortion)"
   ]
  },
  {
   "cell_type": "code",
   "execution_count": 45,
   "id": "3d49c1dc",
   "metadata": {},
   "outputs": [
    {
     "name": "stdout",
     "output_type": "stream",
     "text": [
      "    k   Distortion\n",
      "0   1  1257.603210\n",
      "1   2   863.962818\n",
      "2   3   718.747714\n",
      "3   4   635.076073\n",
      "4   5   579.121350\n",
      "5   6   533.589896\n",
      "6   7   495.364194\n",
      "7   8   463.538019\n",
      "8   9   435.595620\n",
      "9  10   416.199187\n"
     ]
    },
    {
     "data": {
      "image/png": "[encoded data removed]",
      "text/plain": [
       "<Figure size 432x288 with 1 Axes>"
      ]
     },
     "metadata": {
      "needs_background": "light"
     },
     "output_type": "display_data"
    }
   ],
   "source": [
    "# Tabulate the results\n",
    "results_df = pd.DataFrame({'k': k_values, 'Distortion': distortion_values_WE})\n",
    "print(results_df)\n",
    "\n",
    "# Plotting the results\n",
    "plt.plot(k_values, distortion_values_WE, marker='o')\n",
    "plt.xlabel('Number of Clusters (k)')\n",
    "plt.ylabel('Distortion')\n",
    "plt.title('Elbow Method - Distortion')\n",
    "plt.show()"
   ]
  },
  {
   "cell_type": "markdown",
   "id": "2da9ead6",
   "metadata": {},
   "source": [
    "# Visualizing the Results (Using different values of Inertia)"
   ]
  },
  {
   "cell_type": "code",
   "execution_count": 46,
   "id": "05ef6111",
   "metadata": {},
   "outputs": [
    {
     "name": "stdout",
     "output_type": "stream",
     "text": [
      "    k      Inertia\n",
      "0   1  1257.603210\n",
      "1   2   863.962818\n",
      "2   3   718.747714\n",
      "3   4   635.076073\n",
      "4   5   579.121350\n",
      "5   6   533.589896\n",
      "6   7   495.364194\n",
      "7   8   463.538019\n",
      "8   9   435.595620\n",
      "9  10   416.199187\n"
     ]
    },
    {
     "data": {
      "image/png": "[encoded data removed]",
      "text/plain": [
       "<Figure size 432x288 with 1 Axes>"
      ]
     },
     "metadata": {
      "needs_background": "light"
     },
     "output_type": "display_data"
    }
   ],
   "source": [
    "# Tabulate the results\n",
    "results_df = pd.DataFrame({'k': k_values, 'Inertia': inertia_values_WE})\n",
    "print(results_df)\n",
    "\n",
    "# Plotting the results\n",
    "plt.plot(k_values, inertia_values_WE, marker='o')\n",
    "plt.xlabel('Number of Clusters (k)')\n",
    "plt.ylabel('Inertia')\n",
    "plt.title('Elbow Method - Inertia')\n",
    "plt.show()"
   ]
  },
  {
   "cell_type": "markdown",
   "id": "dac35a27",
   "metadata": {},
   "source": [
    "# EM clustering algorithm"
   ]
  },
  {
   "cell_type": "code",
   "execution_count": 47,
   "id": "4ydzEqpRIo8p",
   "metadata": {
    "colab": {
     "base_uri": "https://localhost:8080/"
    },
    "id": "4ydzEqpRIo8p",
    "outputId": "70a19839-a634-4117-bce7-93d0edbff3fd"
   },
   "outputs": [
    {
     "data": {
      "text/plain": [
       "array([3, 0, 2, 0, 3, 0, 3, 0, 3, 3, 3, 0, 3, 1, 0, 0, 1, 0, 2, 3, 1, 1,\n",
       "       1, 2, 1, 1, 3, 4, 1, 1, 1, 1, 1, 1, 3, 1, 1, 1, 1, 3, 1, 3, 1, 1,\n",
       "       3, 1, 4, 3, 3, 1, 3, 3, 2, 1, 1, 3, 1, 1, 1, 1, 1, 1, 1, 1, 4, 1,\n",
       "       0, 0, 3, 0, 0, 0, 0, 2, 0, 3, 3, 0, 0, 2, 0, 3, 0, 1, 1, 1, 2, 1,\n",
       "       3, 1, 1, 0, 1, 2, 4, 2, 3, 1, 1, 1, 3, 4, 0, 3, 1, 4, 1, 1, 0, 3,\n",
       "       1, 3, 1, 1, 1, 1, 3, 4, 2, 1, 1, 1, 1, 1, 1, 1, 1, 3, 1, 3, 3, 4,\n",
       "       0, 0, 3, 3, 0, 3, 0, 0, 0, 0, 2, 0, 0, 1, 0, 2, 0, 1, 3, 3, 1, 3,\n",
       "       3, 0, 2, 1, 3, 1, 1, 1, 1, 1, 1, 1, 1, 1, 1, 1, 1, 1, 1, 1, 1, 3,\n",
       "       3, 1, 1, 1, 3, 1, 4, 2, 2, 1, 1, 2, 1, 3, 3, 3, 3, 4, 1, 1, 1, 1,\n",
       "       0, 0, 0, 3, 3, 0, 0, 3, 0, 3, 0, 0, 4, 2, 0, 4, 3, 3, 3, 0, 0, 4,\n",
       "       3, 3, 0, 3, 0, 3, 0, 2, 3, 3, 0, 3, 3, 0, 3, 3, 3, 3, 4, 0, 3, 0,\n",
       "       3, 3, 0, 3, 3, 0, 3, 2, 3, 3, 3, 0, 3, 2, 0, 2, 0, 3, 3, 0, 3, 0,\n",
       "       0, 0, 0, 3, 0, 3, 0, 0, 4, 4, 4, 4, 4, 3, 4, 3, 2, 4, 3, 4, 4, 3,\n",
       "       4, 3, 3, 4, 2, 3, 3, 3, 3, 4, 3, 4, 2, 4, 2, 3, 3, 3, 3, 3, 3, 3,\n",
       "       2, 3, 4, 4, 4, 3, 4, 3, 3, 3, 4, 2, 4, 4, 3, 3, 3, 3, 3, 4, 3, 1,\n",
       "       0, 3, 3, 0, 3, 3, 4, 0, 3, 4, 2, 2, 4, 4, 0, 3, 4, 4, 4, 3, 4, 3,\n",
       "       3, 4, 4, 4, 2, 3, 4, 3, 3, 3, 2, 2, 0, 3, 2, 4, 3, 3, 4, 4, 3, 4,\n",
       "       3, 3, 3, 4, 4, 4, 3, 2, 3, 3, 3, 4, 4, 3, 4, 2, 3, 2, 4, 3, 4, 4,\n",
       "       0, 3, 0, 4, 3, 0, 0, 2, 0, 3, 1, 0, 2, 3, 0, 0, 2, 3, 3, 0, 1, 0,\n",
       "       1, 2, 0, 3, 0, 1, 3, 3, 0, 0, 0, 0, 0, 3, 0, 1, 1, 1, 0, 0, 4, 1,\n",
       "       1, 1, 3, 1, 1, 1, 0, 4, 2, 1, 2, 0, 1, 1, 2, 1, 0, 1, 2, 4, 3, 3,\n",
       "       3, 3, 3, 3, 3, 0, 1, 0, 1, 0, 0, 3, 3, 0, 0, 0, 0, 0, 0, 0, 3, 1,\n",
       "       0, 0, 1, 0, 0, 3, 0, 1, 0, 0, 1, 4, 1, 2, 1, 1, 0, 3, 1, 2, 1, 3,\n",
       "       1, 1, 1, 1, 0, 0, 1, 1, 4, 1, 1, 2, 1, 4, 0, 2, 4, 1, 1, 1, 4, 0,\n",
       "       1, 1, 1, 1, 1, 1, 1, 1, 1, 4, 1, 1, 1, 0, 1, 1, 4, 3, 1, 0, 1, 4,\n",
       "       1, 1, 1, 1, 4, 1, 2, 1, 2, 1, 1, 1, 3, 2, 1, 2, 1, 1, 2, 1, 1, 0,\n",
       "       1, 1, 1, 1, 1, 4, 3, 1, 3, 2, 1, 3, 0, 1, 1, 1, 1, 1, 2, 1, 1, 2,\n",
       "       3, 1, 1, 2, 1, 4, 0, 0, 0, 0, 0, 0, 0, 0, 0, 4, 0, 3, 0, 3, 0, 4,\n",
       "       4, 1, 1, 4, 1, 3, 4, 4, 4, 3, 1, 3, 4, 1, 4, 4, 3, 1, 4, 1, 3, 1,\n",
       "       1, 1, 4, 1, 4, 4, 1, 4, 1, 4, 4, 1, 1, 4, 4, 4, 3, 4, 1, 4, 1, 4,\n",
       "       0, 0, 0, 0, 0, 0, 3, 3, 0, 0, 0, 0, 4, 0, 1, 1, 4, 3, 1, 1, 4, 0,\n",
       "       3, 4, 1, 1, 1, 1, 1, 4, 4, 1, 2, 1, 4, 4, 4, 4, 4, 4, 4, 4, 3, 4,\n",
       "       4, 1, 1, 4, 1, 4, 1, 3, 1, 4, 4, 3, 4, 4, 4, 3, 4, 4, 3, 4, 4, 3,\n",
       "       3, 0, 0, 4, 0, 0, 0, 2, 0, 0, 0, 1, 0, 4, 1, 1, 1, 0, 4, 1, 4, 1,\n",
       "       4, 4, 1, 4, 4, 3, 4, 4, 3, 4, 1, 4, 3, 1, 4, 4, 4, 1, 1, 1, 2, 4,\n",
       "       1, 4, 4, 3, 4, 3, 4, 1, 4, 4, 1, 1, 1, 1, 4, 4, 4, 4, 1, 3, 1, 1,\n",
       "       4, 1, 4, 4, 1, 4, 4, 4, 0, 0, 0, 4, 4, 0, 3, 4, 0, 0, 0, 4, 0, 0,\n",
       "       1, 4, 4, 4, 4, 3, 3, 4, 4, 4, 4, 3, 4, 4, 1, 4, 4, 4, 4, 3, 2, 4,\n",
       "       4, 4, 4, 1, 1, 4, 4, 3, 4, 4, 4, 4, 4, 4, 1, 4, 4, 2, 4, 4, 1, 4,\n",
       "       0, 3, 4, 3, 0, 3, 0, 0, 0, 4, 0, 3, 3, 0, 4, 4, 0, 3, 3, 4, 4, 4,\n",
       "       4, 4, 0, 4, 1, 4, 4, 4, 2, 3, 3, 4, 4, 4, 4, 3, 4, 2, 0, 1, 3, 4,\n",
       "       0, 4, 4, 2, 4, 0, 4, 2, 4, 4, 4, 4, 4, 4, 1, 4, 1, 4, 4, 4, 4, 1,\n",
       "       0, 3, 3, 0, 3, 0, 3, 0, 4, 0, 4, 4, 0, 4, 4, 1, 0, 4, 0, 4, 4, 0,\n",
       "       4, 4, 4, 0, 4, 2, 3, 0, 3, 3, 0, 2, 4, 4, 4, 4, 4, 1, 3, 3, 3, 4,\n",
       "       4, 4, 4, 2, 4, 4, 3, 4, 4, 1, 4, 4, 3, 4, 4, 4, 4, 4, 3, 4, 0, 4,\n",
       "       0, 4, 0, 0, 3, 0, 1, 3, 4, 4], dtype=int64)"
      ]
     },
     "execution_count": 47,
     "metadata": {},
     "output_type": "execute_result"
    }
   ],
   "source": [
    "# EM clustering algorithm\n",
    "em = GaussianMixture(n_components=5, random_state=42)\n",
    "em.fit(document_vectors)\n",
    "EM_WE_LABEL = em.predict(document_vectors)\n",
    "EM_WE_LABEL_NEW=map_label(EM_WE_LABEL,human_label)\n",
    "EM_WE_LABEL"
   ]
  },
  {
   "cell_type": "code",
   "execution_count": 49,
   "id": "l9bL_ZTbIzGA",
   "metadata": {
    "colab": {
     "base_uri": "https://localhost:8080/"
    },
    "id": "l9bL_ZTbIzGA",
    "outputId": "9ce2565e-af61-4ff2-9712-c3a641235099"
   },
   "outputs": [
    {
     "name": "stdout",
     "output_type": "stream",
     "text": [
      "kappa score in EM WE =  0.15125\n",
      "silhouette score in EM WE =  0.16639692\n"
     ]
    }
   ],
   "source": [
    "#kappa\n",
    "kappa_score_EM_WE =cohen_kappa_score(EM_WE_LABEL,EM_WE_LABEL_NEW)\n",
    "print(\"kappa score in EM WE = \", kappa_score_EM_WE)\n",
    "\n",
    "#silhouette\n",
    "silhouette_score_EM_WE = silhouette_score(document_vectors, EM_WE_LABEL)\n",
    "print(\"silhouette score in EM WE = \", silhouette_score_EM_WE)"
   ]
  },
  {
   "cell_type": "markdown",
   "id": "b976b296",
   "metadata": {},
   "source": [
    "# Akaike information criterion (AIC) or the Bayesian information criterion (BIC)"
   ]
  },
  {
   "cell_type": "code",
   "execution_count": 52,
   "id": "fc6393ce",
   "metadata": {},
   "outputs": [
    {
     "name": "stderr",
     "output_type": "stream",
     "text": [
      "C:\\Users\\LENOVO\\anaconda3\\lib\\site-packages\\sklearn\\cluster\\_kmeans.py:1036: UserWarning: KMeans is known to have a memory leak on Windows with MKL, when there are less chunks than available threads. You can avoid it by setting the environment variable OMP_NUM_THREADS=4.\n",
      "  warnings.warn(\n"
     ]
    },
    {
     "data": {
      "image/png": "[encoded data removed]",
      "text/plain": [
       "<Figure size 432x288 with 1 Axes>"
      ]
     },
     "metadata": {
      "needs_background": "light"
     },
     "output_type": "display_data"
    }
   ],
   "source": [
    "from sklearn.utils import shuffle\n",
    "from sklearn.decomposition import PCA\n",
    "\n",
    "n_components = np.arange(1, 11)\n",
    "models = [GaussianMixture(n, random_state=0) for n in n_components]\n",
    "bic_scores = []\n",
    "aic_scores = []\n",
    "\n",
    "# Subsample the data\n",
    "subsample_size = 1000\n",
    "_subsample = shuffle(document_vectors, random_state=0)[:subsample_size]\n",
    "\n",
    "# Perform PCA for dimensionality reduction\n",
    "pca = PCA(n_components=100)  # Adjust the number of components as needed\n",
    "document_vectors_pca = pca.fit_transform(document_vectors_subsample)\n",
    "\n",
    "for model in models:\n",
    "    # Fit the model on the PCA-transformed data\n",
    "    model.fit(document_vectors_pca)\n",
    "\n",
    "    # Calculate AIC and BIC scores\n",
    "    bic_scores.append(model.bic(document_vectors_pca))\n",
    "    aic_scores.append(model.aic(document_vectors_pca))\n",
    "\n",
    "# Plotting the results\n",
    "plt.plot(n_components, bic_scores, label='BIC')\n",
    "plt.plot(n_components, aic_scores, label='AIC')\n",
    "plt.legend(loc='best')\n",
    "plt.xlabel('n_components')\n",
    "plt.title('Akaike information criterion (AIC) or the Bayesian information criterion (BIC)')\n",
    "\n",
    "plt.show()"
   ]
  },
  {
   "cell_type": "markdown",
   "id": "caddf78e",
   "metadata": {},
   "source": [
    "# Hierarchical clustering algorithm"
   ]
  },
  {
   "cell_type": "code",
   "execution_count": 63,
   "id": "bp_IaIT1KVF_",
   "metadata": {
    "colab": {
     "base_uri": "https://localhost:8080/"
    },
    "id": "bp_IaIT1KVF_",
    "outputId": "a1193f4f-b8bd-4029-f49b-d8f65e32856a"
   },
   "outputs": [
    {
     "data": {
      "text/plain": [
       "array([4, 2, 1, 2, 1, 2, 4, 2, 1, 1, 4, 2, 4, 0, 2, 0, 0, 0, 1, 1, 0, 0,\n",
       "       0, 1, 0, 0, 4, 0, 3, 0, 0, 0, 0, 0, 1, 0, 0, 0, 0, 1, 0, 1, 0, 0,\n",
       "       1, 0, 0, 1, 3, 0, 3, 1, 1, 0, 0, 1, 0, 0, 0, 0, 0, 0, 0, 0, 0, 0,\n",
       "       2, 2, 1, 2, 2, 2, 2, 1, 2, 1, 1, 2, 2, 1, 2, 4, 2, 2, 0, 0, 1, 2,\n",
       "       1, 0, 0, 2, 0, 1, 0, 1, 1, 0, 0, 0, 1, 0, 2, 1, 0, 0, 0, 0, 2, 4,\n",
       "       0, 1, 0, 0, 0, 0, 1, 0, 1, 0, 0, 0, 0, 0, 3, 0, 0, 1, 0, 1, 4, 0,\n",
       "       2, 2, 1, 4, 2, 4, 2, 2, 2, 2, 1, 2, 2, 3, 2, 1, 0, 0, 4, 1, 0, 1,\n",
       "       1, 0, 1, 2, 1, 0, 0, 0, 3, 0, 0, 0, 0, 3, 0, 0, 0, 0, 0, 0, 0, 1,\n",
       "       1, 0, 0, 0, 3, 3, 0, 1, 1, 0, 0, 1, 0, 1, 1, 1, 3, 0, 0, 0, 0, 0,\n",
       "       2, 2, 2, 1, 3, 2, 2, 3, 2, 1, 2, 2, 0, 1, 2, 0, 1, 1, 3, 2, 2, 0,\n",
       "       1, 4, 0, 3, 2, 1, 2, 1, 1, 1, 2, 1, 4, 0, 4, 1, 1, 4, 0, 0, 1, 2,\n",
       "       1, 4, 2, 1, 3, 2, 1, 1, 1, 1, 1, 2, 1, 1, 2, 1, 2, 1, 3, 2, 1, 2,\n",
       "       2, 0, 2, 1, 2, 4, 2, 0, 2, 0, 2, 0, 0, 1, 0, 1, 1, 0, 1, 0, 0, 1,\n",
       "       0, 3, 3, 0, 1, 3, 1, 4, 1, 0, 4, 0, 1, 0, 1, 3, 1, 1, 1, 1, 3, 1,\n",
       "       1, 1, 0, 0, 0, 1, 0, 1, 4, 3, 0, 1, 0, 0, 1, 1, 1, 1, 4, 0, 1, 0,\n",
       "       0, 1, 1, 2, 1, 3, 0, 0, 1, 0, 1, 1, 0, 0, 2, 1, 0, 0, 0, 1, 0, 1,\n",
       "       3, 0, 0, 0, 1, 1, 0, 1, 1, 4, 1, 1, 0, 4, 1, 0, 3, 1, 0, 0, 1, 0,\n",
       "       3, 3, 4, 0, 0, 0, 4, 1, 1, 1, 3, 0, 0, 4, 0, 1, 1, 1, 0, 1, 0, 0,\n",
       "       2, 1, 1, 0, 3, 2, 2, 3, 2, 1, 3, 1, 3, 3, 2, 2, 3, 3, 2, 2, 3, 2,\n",
       "       3, 3, 2, 1, 2, 3, 3, 3, 2, 2, 2, 2, 2, 3, 3, 3, 3, 0, 2, 0, 3, 3,\n",
       "       3, 3, 3, 3, 3, 3, 0, 3, 3, 3, 3, 3, 0, 3, 3, 0, 0, 0, 3, 3, 3, 4,\n",
       "       1, 1, 1, 1, 1, 2, 3, 2, 3, 2, 2, 3, 1, 1, 2, 2, 2, 2, 3, 2, 2, 3,\n",
       "       0, 3, 3, 2, 2, 1, 3, 3, 2, 2, 3, 0, 3, 1, 3, 3, 2, 3, 3, 3, 0, 3,\n",
       "       3, 3, 3, 3, 0, 3, 3, 0, 3, 3, 3, 3, 3, 0, 3, 3, 3, 3, 3, 3, 0, 2,\n",
       "       3, 3, 3, 3, 3, 3, 0, 3, 0, 0, 3, 0, 3, 0, 3, 0, 0, 1, 3, 0, 3, 0,\n",
       "       0, 0, 3, 3, 0, 0, 3, 3, 3, 0, 3, 3, 3, 3, 0, 3, 3, 0, 3, 3, 0, 0,\n",
       "       3, 3, 0, 0, 3, 0, 1, 0, 1, 3, 0, 1, 2, 3, 3, 3, 3, 3, 3, 3, 3, 3,\n",
       "       3, 3, 3, 3, 3, 0, 2, 2, 2, 2, 2, 2, 2, 2, 2, 2, 2, 1, 2, 1, 2, 2,\n",
       "       2, 0, 0, 2, 2, 1, 0, 2, 0, 1, 3, 1, 0, 0, 0, 0, 1, 0, 0, 3, 1, 0,\n",
       "       0, 0, 0, 0, 0, 0, 3, 0, 0, 0, 0, 0, 3, 0, 0, 0, 4, 0, 0, 0, 3, 0,\n",
       "       2, 2, 2, 2, 2, 2, 1, 1, 2, 2, 2, 2, 2, 2, 3, 0, 2, 3, 2, 0, 0, 2,\n",
       "       4, 0, 0, 0, 0, 2, 0, 0, 0, 0, 1, 0, 2, 0, 0, 0, 0, 0, 0, 0, 1, 0,\n",
       "       0, 3, 3, 0, 3, 0, 0, 4, 3, 0, 0, 1, 0, 0, 0, 1, 0, 0, 1, 0, 0, 1,\n",
       "       2, 2, 2, 0, 2, 2, 2, 1, 2, 2, 2, 2, 0, 2, 2, 2, 0, 2, 0, 0, 2, 0,\n",
       "       0, 2, 2, 0, 0, 1, 0, 0, 1, 0, 3, 0, 1, 2, 0, 0, 0, 0, 0, 3, 1, 0,\n",
       "       0, 0, 0, 4, 0, 1, 0, 3, 0, 0, 0, 0, 3, 0, 0, 0, 0, 0, 3, 1, 0, 3,\n",
       "       0, 3, 0, 0, 3, 0, 0, 0, 2, 2, 2, 2, 2, 2, 1, 0, 2, 2, 2, 0, 2, 2,\n",
       "       0, 0, 0, 0, 0, 1, 1, 0, 0, 0, 0, 4, 0, 0, 0, 0, 0, 0, 0, 1, 1, 0,\n",
       "       0, 0, 0, 0, 0, 0, 2, 1, 0, 0, 0, 0, 0, 0, 0, 0, 0, 1, 0, 0, 3, 0,\n",
       "       2, 1, 2, 3, 2, 1, 2, 2, 2, 2, 1, 1, 1, 2, 2, 0, 2, 1, 1, 2, 0, 0,\n",
       "       0, 2, 2, 0, 2, 0, 0, 0, 1, 1, 1, 0, 0, 0, 0, 1, 0, 1, 2, 0, 4, 0,\n",
       "       0, 0, 0, 1, 0, 2, 0, 1, 0, 3, 0, 3, 0, 0, 0, 0, 0, 0, 0, 0, 0, 0,\n",
       "       2, 1, 4, 2, 1, 2, 4, 2, 2, 2, 2, 2, 2, 0, 0, 0, 2, 0, 2, 0, 0, 2,\n",
       "       0, 0, 0, 2, 3, 1, 4, 2, 1, 1, 0, 1, 2, 0, 0, 0, 0, 0, 1, 1, 1, 0,\n",
       "       0, 0, 0, 1, 0, 0, 1, 0, 0, 0, 0, 2, 1, 0, 0, 0, 0, 0, 1, 0, 2, 3,\n",
       "       2, 2, 2, 2, 3, 2, 0, 1, 0, 0], dtype=int64)"
      ]
     },
     "execution_count": 63,
     "metadata": {},
     "output_type": "execute_result"
    }
   ],
   "source": [
    "# Hierarchical clustering algorithm\n",
    "hierarchical = AgglomerativeClustering(n_clusters=5)\n",
    "hierarchical_labels = hierarchical.fit_predict((document_vectors))\n",
    "Hierarchical_WE_LABEL_NEW=map_label(hierarchical_labels,human_label)\n",
    "hierarchical_labels"
   ]
  },
  {
   "cell_type": "code",
   "execution_count": 69,
   "id": "EYWo7rq2KVjc",
   "metadata": {
    "colab": {
     "base_uri": "https://localhost:8080/",
     "height": 564
    },
    "id": "EYWo7rq2KVjc",
    "outputId": "2de53b20-c31f-447a-aa58-d88c39636a5d"
   },
   "outputs": [
    {
     "data": {
      "image/png": "[encoded data removed]",
      "text/plain": [
       "<Figure size 2160x1440 with 1 Axes>"
      ]
     },
     "metadata": {
      "needs_background": "light"
     },
     "output_type": "display_data"
    }
   ],
   "source": [
    "linked = linkage(document_vectors, 'complete')  # You can choose different linkage methods (single, complete, average, etc.)\n",
    "\n",
    "# Create a dendrogram\n",
    "plt.figure(figsize=(30, 20))\n",
    "dendrogram(linked)\n",
    "plt.title('Hierarchical Clustering Dendrogram')\n",
    "plt.xlabel('Data points')\n",
    "plt.ylabel('Distance')\n",
    "plt.show()"
   ]
  },
  {
   "cell_type": "code",
   "execution_count": 65,
   "id": "ifEJvx3cLSbj",
   "metadata": {
    "colab": {
     "base_uri": "https://localhost:8080/"
    },
    "id": "ifEJvx3cLSbj",
    "outputId": "ca985e8e-d2ff-4ea0-9c2f-357ca7085640"
   },
   "outputs": [
    {
     "name": "stdout",
     "output_type": "stream",
     "text": [
      "kappa score in kmeans WE=  -0.02750000000000008\n",
      "silhouette score in kmeans WE =  0.1975473\n"
     ]
    }
   ],
   "source": [
    "#kappa\n",
    "kappa_score_kmeans_WE=cohen_kappa_score(KM_WE_LABEL,KM_WE_LABEL_NEW)\n",
    "print(\"kappa score in kmeans WE= \", kappa_score_kmeans_WE)\n",
    "\n",
    "#silhouette\n",
    "silhouette_score_kmeans_WE = silhouette_score(document_vectors, KM_WE_LABEL)\n",
    "print(\"silhouette score in kmeans WE = \", silhouette_score_kmeans_WE)"
   ]
  },
  {
   "cell_type": "markdown",
   "id": "e669e86a",
   "metadata": {},
   "source": [
    "# Error Analysis (Using adjusted Rand index)"
   ]
  },
  {
   "cell_type": "code",
   "execution_count": 66,
   "id": "153b07e6",
   "metadata": {},
   "outputs": [
    {
     "name": "stdout",
     "output_type": "stream",
     "text": [
      "Adjusted Rand index: 0.07715360893069159\n"
     ]
    }
   ],
   "source": [
    "from sklearn.metrics import adjusted_rand_score\n",
    "from sklearn.metrics import fowlkes_mallows_score\n",
    "\n",
    "# Calculate adjusted Rand index\n",
    "ari_score = adjusted_rand_score(human_label, hierarchical_labels)\n",
    "\n",
    "print(\"Adjusted Rand index:\", ari_score)"
   ]
  },
  {
   "cell_type": "markdown",
   "id": "a843b1df",
   "metadata": {},
   "source": [
    "# Error Analysis (Using Fowlkes-Mallows index)"
   ]
  },
  {
   "cell_type": "code",
   "execution_count": 68,
   "id": "6a73a868",
   "metadata": {},
   "outputs": [
    {
     "name": "stdout",
     "output_type": "stream",
     "text": [
      "Fowlkes-Mallows index: 0.2906102486275637\n"
     ]
    }
   ],
   "source": [
    "# Calculate Fowlkes-Mallows index\n",
    "fm_score = fowlkes_mallows_score(human_label, hierarchical_labels)\n",
    "\n",
    "print(\"Fowlkes-Mallows index:\", fm_score)"
   ]
  }
 ],
 "metadata": {
  "colab": {
   "provenance": []
  },
  "kernelspec": {
   "display_name": "Python 3 (ipykernel)",
   "language": "python",
   "name": "python3"
  },
  "language_info": {
   "codemirror_mode": {
    "name": "ipython",
    "version": 3
   },
   "file_extension": ".py",
   "mimetype": "text/x-python",
   "name": "python",
   "nbconvert_exporter": "python",
   "pygments_lexer": "ipython3",
   "version": "3.9.12"
  }
 },
 "nbformat": 4,
 "nbformat_minor": 5
}
